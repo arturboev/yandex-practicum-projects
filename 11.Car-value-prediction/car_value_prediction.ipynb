{
 "cells": [
  {
   "cell_type": "markdown",
   "metadata": {},
   "source": [
    "# 1. Подготовка данных"
   ]
  },
  {
   "cell_type": "markdown",
   "metadata": {},
   "source": [
    "Загрузим необходимые библиотеки и функции."
   ]
  },
  {
   "cell_type": "code",
   "execution_count": 1,
   "metadata": {},
   "outputs": [],
   "source": [
    "import pandas as pd\n",
    "import matplotlib.pyplot as plt\n",
    "from sklearn.model_selection import train_test_split\n",
    "from sklearn.preprocessing import StandardScaler\n",
    "from sklearn.metrics import mean_squared_error\n",
    "import lightgbm as lgb\n",
    "from sklearn.ensemble import RandomForestRegressor\n",
    "from sklearn.linear_model import LinearRegression\n",
    "from sklearn.preprocessing import OrdinalEncoder\n",
    "import warnings"
   ]
  },
  {
   "cell_type": "markdown",
   "metadata": {},
   "source": [
    "Прочтем данные."
   ]
  },
  {
   "cell_type": "code",
   "execution_count": 2,
   "metadata": {},
   "outputs": [
    {
     "data": {
      "text/html": [
       "<div>\n",
       "<style scoped>\n",
       "    .dataframe tbody tr th:only-of-type {\n",
       "        vertical-align: middle;\n",
       "    }\n",
       "\n",
       "    .dataframe tbody tr th {\n",
       "        vertical-align: top;\n",
       "    }\n",
       "\n",
       "    .dataframe thead th {\n",
       "        text-align: right;\n",
       "    }\n",
       "</style>\n",
       "<table border=\"1\" class=\"dataframe\">\n",
       "  <thead>\n",
       "    <tr style=\"text-align: right;\">\n",
       "      <th></th>\n",
       "      <th>DateCrawled</th>\n",
       "      <th>Price</th>\n",
       "      <th>VehicleType</th>\n",
       "      <th>RegistrationYear</th>\n",
       "      <th>Gearbox</th>\n",
       "      <th>Power</th>\n",
       "      <th>Model</th>\n",
       "      <th>Kilometer</th>\n",
       "      <th>RegistrationMonth</th>\n",
       "      <th>FuelType</th>\n",
       "      <th>Brand</th>\n",
       "      <th>NotRepaired</th>\n",
       "      <th>DateCreated</th>\n",
       "      <th>NumberOfPictures</th>\n",
       "      <th>PostalCode</th>\n",
       "      <th>LastSeen</th>\n",
       "    </tr>\n",
       "  </thead>\n",
       "  <tbody>\n",
       "    <tr>\n",
       "      <td>0</td>\n",
       "      <td>2016-03-24 11:52:17</td>\n",
       "      <td>480</td>\n",
       "      <td>NaN</td>\n",
       "      <td>1993</td>\n",
       "      <td>manual</td>\n",
       "      <td>0</td>\n",
       "      <td>golf</td>\n",
       "      <td>150000</td>\n",
       "      <td>0</td>\n",
       "      <td>petrol</td>\n",
       "      <td>volkswagen</td>\n",
       "      <td>NaN</td>\n",
       "      <td>2016-03-24 00:00:00</td>\n",
       "      <td>0</td>\n",
       "      <td>70435</td>\n",
       "      <td>2016-04-07 03:16:57</td>\n",
       "    </tr>\n",
       "    <tr>\n",
       "      <td>1</td>\n",
       "      <td>2016-03-24 10:58:45</td>\n",
       "      <td>18300</td>\n",
       "      <td>coupe</td>\n",
       "      <td>2011</td>\n",
       "      <td>manual</td>\n",
       "      <td>190</td>\n",
       "      <td>NaN</td>\n",
       "      <td>125000</td>\n",
       "      <td>5</td>\n",
       "      <td>gasoline</td>\n",
       "      <td>audi</td>\n",
       "      <td>yes</td>\n",
       "      <td>2016-03-24 00:00:00</td>\n",
       "      <td>0</td>\n",
       "      <td>66954</td>\n",
       "      <td>2016-04-07 01:46:50</td>\n",
       "    </tr>\n",
       "    <tr>\n",
       "      <td>2</td>\n",
       "      <td>2016-03-14 12:52:21</td>\n",
       "      <td>9800</td>\n",
       "      <td>suv</td>\n",
       "      <td>2004</td>\n",
       "      <td>auto</td>\n",
       "      <td>163</td>\n",
       "      <td>grand</td>\n",
       "      <td>125000</td>\n",
       "      <td>8</td>\n",
       "      <td>gasoline</td>\n",
       "      <td>jeep</td>\n",
       "      <td>NaN</td>\n",
       "      <td>2016-03-14 00:00:00</td>\n",
       "      <td>0</td>\n",
       "      <td>90480</td>\n",
       "      <td>2016-04-05 12:47:46</td>\n",
       "    </tr>\n",
       "    <tr>\n",
       "      <td>3</td>\n",
       "      <td>2016-03-17 16:54:04</td>\n",
       "      <td>1500</td>\n",
       "      <td>small</td>\n",
       "      <td>2001</td>\n",
       "      <td>manual</td>\n",
       "      <td>75</td>\n",
       "      <td>golf</td>\n",
       "      <td>150000</td>\n",
       "      <td>6</td>\n",
       "      <td>petrol</td>\n",
       "      <td>volkswagen</td>\n",
       "      <td>no</td>\n",
       "      <td>2016-03-17 00:00:00</td>\n",
       "      <td>0</td>\n",
       "      <td>91074</td>\n",
       "      <td>2016-03-17 17:40:17</td>\n",
       "    </tr>\n",
       "    <tr>\n",
       "      <td>4</td>\n",
       "      <td>2016-03-31 17:25:20</td>\n",
       "      <td>3600</td>\n",
       "      <td>small</td>\n",
       "      <td>2008</td>\n",
       "      <td>manual</td>\n",
       "      <td>69</td>\n",
       "      <td>fabia</td>\n",
       "      <td>90000</td>\n",
       "      <td>7</td>\n",
       "      <td>gasoline</td>\n",
       "      <td>skoda</td>\n",
       "      <td>no</td>\n",
       "      <td>2016-03-31 00:00:00</td>\n",
       "      <td>0</td>\n",
       "      <td>60437</td>\n",
       "      <td>2016-04-06 10:17:21</td>\n",
       "    </tr>\n",
       "  </tbody>\n",
       "</table>\n",
       "</div>"
      ],
      "text/plain": [
       "           DateCrawled  Price VehicleType  RegistrationYear Gearbox  Power  \\\n",
       "0  2016-03-24 11:52:17    480         NaN              1993  manual      0   \n",
       "1  2016-03-24 10:58:45  18300       coupe              2011  manual    190   \n",
       "2  2016-03-14 12:52:21   9800         suv              2004    auto    163   \n",
       "3  2016-03-17 16:54:04   1500       small              2001  manual     75   \n",
       "4  2016-03-31 17:25:20   3600       small              2008  manual     69   \n",
       "\n",
       "   Model  Kilometer  RegistrationMonth  FuelType       Brand NotRepaired  \\\n",
       "0   golf     150000                  0    petrol  volkswagen         NaN   \n",
       "1    NaN     125000                  5  gasoline        audi         yes   \n",
       "2  grand     125000                  8  gasoline        jeep         NaN   \n",
       "3   golf     150000                  6    petrol  volkswagen          no   \n",
       "4  fabia      90000                  7  gasoline       skoda          no   \n",
       "\n",
       "           DateCreated  NumberOfPictures  PostalCode             LastSeen  \n",
       "0  2016-03-24 00:00:00                 0       70435  2016-04-07 03:16:57  \n",
       "1  2016-03-24 00:00:00                 0       66954  2016-04-07 01:46:50  \n",
       "2  2016-03-14 00:00:00                 0       90480  2016-04-05 12:47:46  \n",
       "3  2016-03-17 00:00:00                 0       91074  2016-03-17 17:40:17  \n",
       "4  2016-03-31 00:00:00                 0       60437  2016-04-06 10:17:21  "
      ]
     },
     "execution_count": 2,
     "metadata": {},
     "output_type": "execute_result"
    }
   ],
   "source": [
    "autos = pd.read_csv('/datasets/autos.csv')\n",
    "autos.head()"
   ]
  },
  {
   "cell_type": "code",
   "execution_count": 3,
   "metadata": {},
   "outputs": [
    {
     "name": "stdout",
     "output_type": "stream",
     "text": [
      "<class 'pandas.core.frame.DataFrame'>\n",
      "RangeIndex: 354369 entries, 0 to 354368\n",
      "Data columns (total 16 columns):\n",
      "DateCrawled          354369 non-null object\n",
      "Price                354369 non-null int64\n",
      "VehicleType          316879 non-null object\n",
      "RegistrationYear     354369 non-null int64\n",
      "Gearbox              334536 non-null object\n",
      "Power                354369 non-null int64\n",
      "Model                334664 non-null object\n",
      "Kilometer            354369 non-null int64\n",
      "RegistrationMonth    354369 non-null int64\n",
      "FuelType             321474 non-null object\n",
      "Brand                354369 non-null object\n",
      "NotRepaired          283215 non-null object\n",
      "DateCreated          354369 non-null object\n",
      "NumberOfPictures     354369 non-null int64\n",
      "PostalCode           354369 non-null int64\n",
      "LastSeen             354369 non-null object\n",
      "dtypes: int64(7), object(9)\n",
      "memory usage: 43.3+ MB\n"
     ]
    }
   ],
   "source": [
    "autos.info()"
   ]
  },
  {
   "cell_type": "markdown",
   "metadata": {},
   "source": [
    "Проверим на дубликаты."
   ]
  },
  {
   "cell_type": "code",
   "execution_count": 4,
   "metadata": {},
   "outputs": [
    {
     "data": {
      "text/plain": [
       "4"
      ]
     },
     "execution_count": 4,
     "metadata": {},
     "output_type": "execute_result"
    }
   ],
   "source": [
    "autos.duplicated().sum()"
   ]
  },
  {
   "cell_type": "markdown",
   "metadata": {},
   "source": [
    "Избавимся от них.  \n",
    "  \n",
    "Следующие признаки никак не влияют на наш целевой признак - цену машины:  \n",
    "DateCrawled - дата скачивания анкеты из базы  \n",
    "RegistrationMonth - месяц регистрации автомобиля  \n",
    "DateCreated — дата создания анкеты  \n",
    "PostalCode — почтовый индекс владельца анкеты (пользователя)  \n",
    "LastSeen — дата последней активности пользователя  \n",
    "Эти столбцы можно без сожаления удалить.\n",
    "В принципе, месяц изготовления тоже лишний.   \n",
    "Заодно приведем названия столбцов в подобающий вид."
   ]
  },
  {
   "cell_type": "code",
   "execution_count": 5,
   "metadata": {},
   "outputs": [],
   "source": [
    "autos = autos.drop_duplicates().drop(['DateCrawled', 'RegistrationMonth', 'DateCreated', 'PostalCode', 'LastSeen'], axis=1)\n",
    "\n",
    "autos.columns = ['price', 'vehicle_type', 'registration_year', 'gearbox',\n",
    "                 'power', 'model', 'kilometer', 'fuel_type', 'brand',\n",
    "                 'not_repaired', 'number_of_pictures']"
   ]
  },
  {
   "cell_type": "markdown",
   "metadata": {},
   "source": [
    "Проверим адекватность параметров"
   ]
  },
  {
   "cell_type": "code",
   "execution_count": 6,
   "metadata": {},
   "outputs": [
    {
     "name": "stdout",
     "output_type": "stream",
     "text": [
      "Цена от 0 до 20000 евро\n",
      "Мощность от 0 до 20000 л.с.\n",
      "Пробег от 5000 до 150000 км.\n",
      "Год от 1000 до 9999 \n",
      "Кол-во фотографий от 0 до 0 \n"
     ]
    }
   ],
   "source": [
    "print('Цена от', autos['price'].min(), 'до', autos['price'].max(), 'евро')\n",
    "print('Мощность от', autos['power'].min(), 'до', autos['power'].max(), 'л.с.')\n",
    "print('Пробег от', autos['kilometer'].min(), 'до', autos['kilometer'].max(), 'км.')\n",
    "print('Год от', autos['registration_year'].min(), 'до', autos['registration_year'].max(), '')\n",
    "print('Кол-во фотографий от', autos['number_of_pictures'].min(), 'до', autos['number_of_pictures'].max(), '')"
   ]
  },
  {
   "cell_type": "markdown",
   "metadata": {},
   "source": [
    "Цена - вполне адекватна  \n",
    "Мощность двигателя - 20 тыс. л.с. - многовато, посмотрим выбросы  \n",
    "Пробег - вполне  \n",
    "Год регистрации - нужно редактировать, таких годов не бывает у автомобилей  \n",
    "Кол-во фото - столбец явно лишний, во всей базе ни одной фотографии."
   ]
  },
  {
   "cell_type": "code",
   "execution_count": 7,
   "metadata": {},
   "outputs": [],
   "source": [
    "autos = autos.drop('number_of_pictures', axis=1)"
   ]
  },
  {
   "cell_type": "code",
   "execution_count": 8,
   "metadata": {},
   "outputs": [
    {
     "data": {
      "image/png": "[encoded data removed]",
      "text/plain": [
       "<Figure size 1080x864 with 4 Axes>"
      ]
     },
     "metadata": {
      "needs_background": "light"
     },
     "output_type": "display_data"
    }
   ],
   "source": [
    "plt.rcParams['figure.figsize'] = [15, 12]\n",
    "ax = plt.subplot(221)\n",
    "ax.set_title('Распределения автомобилей по мощности двигателя')\n",
    "plt.xlim(0, 400)\n",
    "ax.set_xlabel('мощность (л.с.)')\n",
    "ax.set_ylabel('кол-во авто')\n",
    "autos['power'].hist(bins=1000)\n",
    "\n",
    "ax = plt.subplot(222)\n",
    "ax.set_title('Выбросы по мощности двигателя')\n",
    "ax.set_ylabel('л.с.')\n",
    "plt.ylim(0, 400)\n",
    "pd.DataFrame(autos['power']).boxplot();\n",
    "\n",
    "ax = plt.subplot(223)\n",
    "ax.set_title('Распределение автомобилей возрасту')\n",
    "plt.xlim(1940, 2030)\n",
    "ax.set_xlabel('год регистрации')\n",
    "ax.set_ylabel('кол-во авто')\n",
    "autos['registration_year'].hist(bins=3000)\n",
    "\n",
    "ax = plt.subplot(224)\n",
    "ax.set_title('Выбросы по возрасту авто')\n",
    "ax.set_ylabel('год')\n",
    "plt.ylim(1940, 2050)\n",
    "pd.DataFrame(autos['registration_year']).boxplot();"
   ]
  },
  {
   "cell_type": "markdown",
   "metadata": {},
   "source": [
    "Удалим выбросы мощности более 250 л.с. и строки с мощностью, равной нулю.  Конечно, существуют автомобили и с бОльшей мощностью двигателя, но их немного и цена на них определяется в индивидуальном порядке.   \n",
    "Также удаляем выбросы по году регистрации: до 1985 и после 2019. Это или ошибка, которую мы не можем исправить или действительно старые автомобили, цена которых уже не зависит от года выпуска и поределяется индивидуально (бесполезный хлам или дорогой раритет)."
   ]
  },
  {
   "cell_type": "code",
   "execution_count": 9,
   "metadata": {},
   "outputs": [
    {
     "name": "stdout",
     "output_type": "stream",
     "text": [
      "<class 'pandas.core.frame.DataFrame'>\n",
      "Int64Index: 302491 entries, 1 to 354368\n",
      "Data columns (total 10 columns):\n",
      "price                302491 non-null int64\n",
      "vehicle_type         280345 non-null object\n",
      "registration_year    302491 non-null int64\n",
      "gearbox              296279 non-null object\n",
      "power                302491 non-null int64\n",
      "model                290342 non-null object\n",
      "kilometer            302491 non-null int64\n",
      "fuel_type            282066 non-null object\n",
      "brand                302491 non-null object\n",
      "not_repaired         254734 non-null object\n",
      "dtypes: int64(4), object(6)\n",
      "memory usage: 25.4+ MB\n"
     ]
    }
   ],
   "source": [
    "autos = autos.query('0<power<=250 and 1985<registration_year<2019')\n",
    "autos.info()"
   ]
  },
  {
   "cell_type": "markdown",
   "metadata": {},
   "source": [
    "Остались пропуски в следующих столбцах:  \n",
    "vehicle_type - тип кузова может быть разный у одинаковых моделей, меняем на unknown  \n",
    "gearbox - то же самое, могут быть 2 одинаковые машины с разными коробками, меняем на unknown   \n",
    "model - никак не восстановить, меняем на unknown   \n",
    "fuel_type - то же самое, меняем на unknown   \n",
    "not_repaired - никак не узнать, если  владелец не указал (он и сам может не знать, была ли в ремонте), меняем на unknown \n",
    "  \n",
    "Проведем прямое кодирование техникой OHE для модели линейной регрессии.  \n",
    "Для остальных моделей проведем порядковое кодирование категориальных признаков."
   ]
  },
  {
   "cell_type": "code",
   "execution_count": 10,
   "metadata": {},
   "outputs": [],
   "source": [
    "autos = autos.fillna('unknown')\n",
    "сategorical = ['vehicle_type', 'gearbox', 'model', 'fuel_type', 'brand', 'not_repaired']\n",
    "\n",
    "autos_1 = pd.get_dummies(autos, drop_first=True)\n",
    "\n",
    "encoder = OrdinalEncoder()\n",
    "\n",
    "autos_ordinal = pd.DataFrame(encoder.fit_transform(autos[сategorical]),\n",
    "                            columns=сategorical, index=autos.index)\n",
    "autos[сategorical] = autos_ordinal[сategorical]"
   ]
  },
  {
   "cell_type": "markdown",
   "metadata": {},
   "source": [
    "# 2. Обучение моделей"
   ]
  },
  {
   "cell_type": "markdown",
   "metadata": {},
   "source": [
    "Выделим целевой признак и разобъем выборку на тренировочную, валидационную и тестовую. Отдельно для линейной регрессии, отдельно для других моделей.  \n",
    "Также проведем масштабирование числовых признаков."
   ]
  },
  {
   "cell_type": "code",
   "execution_count": 11,
   "metadata": {},
   "outputs": [],
   "source": [
    "warnings.filterwarnings('ignore')\n",
    "\n",
    "features_train, features_valid_test, target_train, target_valid_test = train_test_split(\n",
    "    autos.drop('price', axis=1), autos.price, test_size=0.4, random_state=12345)\n",
    "\n",
    "features_train_1, features_valid_test_1, target_train_1, target_valid_test_1 = train_test_split(\n",
    "    autos_1.drop('price', axis=1), autos_1.price, test_size=0.4, random_state=12345)\n",
    "\n",
    "features_valid, features_test, target_valid, target_test = train_test_split(\n",
    "    features_valid_test, target_valid_test, test_size=0.5, random_state=12345)\n",
    "\n",
    "features_valid_1, features_test_1, target_valid_1, target_test_1 = train_test_split(\n",
    "    features_valid_test_1, target_valid_test_1, test_size=0.5, random_state=12345)\n",
    "\n",
    "numeric = ['registration_year', 'power', 'kilometer']\n",
    "scaler = StandardScaler()\n",
    "scaler.fit(features_train[numeric])\n",
    "scaler.fit(features_train_1[numeric])\n",
    "\n",
    "features_train[numeric] = scaler.transform(features_train[numeric])\n",
    "features_valid[numeric] = scaler.transform(features_valid[numeric])\n",
    "features_test[numeric] = scaler.transform(features_test[numeric])\n",
    "\n",
    "features_train_1[numeric] = scaler.transform(features_train_1[numeric])\n",
    "features_valid_1[numeric] = scaler.transform(features_valid_1[numeric])\n",
    "features_test_1[numeric] = scaler.transform(features_test_1[numeric])"
   ]
  },
  {
   "cell_type": "markdown",
   "metadata": {},
   "source": [
    "Произведем перебор гиперпараметров для модели случайного леса.  \n",
    "При тестировании диапазон параметров был шире, но и времени было затрачено намного больше.  \n",
    "ВРЕМЯ РАБОТЫ ЦИКЛОВ 1 МИН."
   ]
  },
  {
   "cell_type": "code",
   "execution_count": 12,
   "metadata": {},
   "outputs": [
    {
     "name": "stdout",
     "output_type": "stream",
     "text": [
      "Наименьшее значение RMSE 1617.2847796181568 при:\n",
      "max_depth = 18\n",
      "n_estimators = 25\n"
     ]
    }
   ],
   "source": [
    "rmse_min = 5000\n",
    "for estim in range(23, 26, 1):\n",
    "    for depth in range(17, 19, 1):\n",
    "        model = RandomForestRegressor(n_estimators=estim, max_depth=depth, random_state=12345)\n",
    "        model.fit(features_train, target_train)\n",
    "        prediction = model.predict(features_valid)\n",
    "        rmse = mean_squared_error(target_valid, prediction)**0.5\n",
    "        if rmse < rmse_min:\n",
    "            rmse_min = rmse\n",
    "            est = estim\n",
    "            dep = depth\n",
    "print('Наименьшее значение RMSE', rmse_min, 'при:')\n",
    "print('max_depth =', dep)\n",
    "print('n_estimators =', est)"
   ]
  },
  {
   "cell_type": "markdown",
   "metadata": {},
   "source": [
    "Посмотрим, каково значение метрики для линейной регрессии."
   ]
  },
  {
   "cell_type": "code",
   "execution_count": 13,
   "metadata": {},
   "outputs": [
    {
     "name": "stdout",
     "output_type": "stream",
     "text": [
      "RMSE= 2372.1231679593716\n"
     ]
    }
   ],
   "source": [
    "model = LinearRegression()\n",
    "model.fit(features_train_1, target_train_1)\n",
    "prediction = model.predict(features_valid_1)\n",
    "print('RMSE=',  mean_squared_error(target_valid_1, prediction)**0.5)"
   ]
  },
  {
   "cell_type": "markdown",
   "metadata": {},
   "source": [
    "Теперь произведем перебор гиперпараметров для модели градиентного бустинга.  \n",
    "При тестировании параметров перебиралось больше, а их диапазон был шире.  \n",
    "ВРЕМЯ РАБОТЫ ЦИКЛОВ 4 МИН."
   ]
  },
  {
   "cell_type": "code",
   "execution_count": 14,
   "metadata": {
    "scrolled": true
   },
   "outputs": [
    {
     "name": "stdout",
     "output_type": "stream",
     "text": [
      "Наименьшее значение RMSE 1537.250040320259 при:\n",
      "learning_rate = 0.2\n",
      "max_depth = 19\n"
     ]
    }
   ],
   "source": [
    "rmse_min = 5000\n",
    "lr = 0.1\n",
    "while lr <= 0.3:\n",
    "    for depth in range(17, 21, 1):\n",
    "        model = lgb.LGBMRegressor(\n",
    "                     learning_rate = lr, \n",
    "                     max_depth = depth,\n",
    "                     metric = 'rmse',\n",
    "                     random_state = 12345, \n",
    "                     n_estimators = 500\n",
    "                                        )\n",
    "\n",
    "        model.fit(features_train, target_train, categorical_feature=сategorical)\n",
    "        prediction = model.predict(features_valid)\n",
    "        rmse = mean_squared_error(target_valid, prediction)**0.5\n",
    "        if rmse < rmse_min:\n",
    "            rmse_min = rmse\n",
    "            l_r = lr\n",
    "            dep = depth\n",
    "    lr += 0.1\n",
    "    \n",
    "print('Наименьшее значение RMSE', rmse_min, 'при:')\n",
    "print('learning_rate =', l_r)\n",
    "print('max_depth =', dep)"
   ]
  },
  {
   "cell_type": "markdown",
   "metadata": {},
   "source": [
    "# 3. Анализ моделей"
   ]
  },
  {
   "cell_type": "markdown",
   "metadata": {},
   "source": [
    "Сразу оценим качество константной модели для оценки адекватности остальных."
   ]
  },
  {
   "cell_type": "code",
   "execution_count": 15,
   "metadata": {},
   "outputs": [
    {
     "name": "stdout",
     "output_type": "stream",
     "text": [
      "Для константной модели:\n",
      "RMSE= 4756.1200164353895\n",
      "CPU times: user 9.57 ms, sys: 27 µs, total: 9.6 ms\n",
      "Wall time: 7.66 ms\n"
     ]
    }
   ],
   "source": [
    "%%time\n",
    "prediction = pd.Series(target_train.median(), target_test.index)\n",
    "print('Для константной модели:')\n",
    "print('RMSE=',  mean_squared_error(target_test, prediction)**0.5)"
   ]
  },
  {
   "cell_type": "markdown",
   "metadata": {},
   "source": [
    "Определим модели с подобранными гиперпараметрами."
   ]
  },
  {
   "cell_type": "code",
   "execution_count": 16,
   "metadata": {},
   "outputs": [],
   "source": [
    "rf_model = RandomForestRegressor(n_estimators=25, max_depth=18, random_state=12345)\n",
    "\n",
    "lr_model = LinearRegression()\n",
    "\n",
    "lgbm_model = lgb.LGBMRegressor(\n",
    "                     learning_rate = 0.2, \n",
    "                     max_depth = 19,\n",
    "                     metric = 'rmse',\n",
    "                     random_state = 12345, \n",
    "                     n_estimators = 1000\n",
    "                                        )"
   ]
  },
  {
   "cell_type": "markdown",
   "metadata": {},
   "source": [
    "Произведем замер скорости обучения и скорости предсказания моделей.  \n",
    "Сначала для случайного леса."
   ]
  },
  {
   "cell_type": "code",
   "execution_count": 17,
   "metadata": {},
   "outputs": [
    {
     "name": "stdout",
     "output_type": "stream",
     "text": [
      "CPU times: user 11.7 s, sys: 0 ns, total: 11.7 s\n",
      "Wall time: 11.8 s\n"
     ]
    },
    {
     "data": {
      "text/plain": [
       "RandomForestRegressor(bootstrap=True, criterion='mse', max_depth=18,\n",
       "                      max_features='auto', max_leaf_nodes=None,\n",
       "                      min_impurity_decrease=0.0, min_impurity_split=None,\n",
       "                      min_samples_leaf=1, min_samples_split=2,\n",
       "                      min_weight_fraction_leaf=0.0, n_estimators=25,\n",
       "                      n_jobs=None, oob_score=False, random_state=12345,\n",
       "                      verbose=0, warm_start=False)"
      ]
     },
     "execution_count": 17,
     "metadata": {},
     "output_type": "execute_result"
    }
   ],
   "source": [
    "%%time\n",
    "rf_model.fit(features_train, target_train)"
   ]
  },
  {
   "cell_type": "code",
   "execution_count": 18,
   "metadata": {},
   "outputs": [
    {
     "name": "stdout",
     "output_type": "stream",
     "text": [
      "RMSE= 1588.5015014732476\n",
      "CPU times: user 489 ms, sys: 0 ns, total: 489 ms\n",
      "Wall time: 499 ms\n"
     ]
    }
   ],
   "source": [
    "%%time\n",
    "prediction = rf_model.predict(features_test)\n",
    "print('RMSE=',  mean_squared_error(target_test, prediction)**0.5)"
   ]
  },
  {
   "cell_type": "markdown",
   "metadata": {},
   "source": [
    "Теперь для линейной регрессии."
   ]
  },
  {
   "cell_type": "code",
   "execution_count": 19,
   "metadata": {},
   "outputs": [
    {
     "name": "stdout",
     "output_type": "stream",
     "text": [
      "CPU times: user 15 s, sys: 3.84 s, total: 18.9 s\n",
      "Wall time: 18.9 s\n"
     ]
    },
    {
     "data": {
      "text/plain": [
       "LinearRegression(copy_X=True, fit_intercept=True, n_jobs=None, normalize=False)"
      ]
     },
     "execution_count": 19,
     "metadata": {},
     "output_type": "execute_result"
    }
   ],
   "source": [
    "%%time\n",
    "lr_model.fit(features_train_1, target_train_1)"
   ]
  },
  {
   "cell_type": "code",
   "execution_count": 20,
   "metadata": {},
   "outputs": [
    {
     "name": "stdout",
     "output_type": "stream",
     "text": [
      "RMSE= 2372.4197678304076\n",
      "CPU times: user 116 ms, sys: 101 ms, total: 217 ms\n",
      "Wall time: 196 ms\n"
     ]
    }
   ],
   "source": [
    "%%time\n",
    "prediction = lr_model.predict(features_test_1)\n",
    "print('RMSE=',  mean_squared_error(target_test_1, prediction)**0.5)"
   ]
  },
  {
   "cell_type": "markdown",
   "metadata": {},
   "source": [
    "И, наконец, для градиентного бустинга. Поставим ограничение на кол-во итераций в зависимости от скорости изменения метрики. Качество модели это уменьшит не сильно, а время обучения может сократиться."
   ]
  },
  {
   "cell_type": "code",
   "execution_count": 21,
   "metadata": {},
   "outputs": [
    {
     "name": "stdout",
     "output_type": "stream",
     "text": [
      "Training until validation scores don't improve for 10 rounds\n",
      "[50]\tvalid_0's rmse: 1618.29\n",
      "[100]\tvalid_0's rmse: 1585.35\n",
      "[150]\tvalid_0's rmse: 1570.58\n",
      "[200]\tvalid_0's rmse: 1558.83\n",
      "[250]\tvalid_0's rmse: 1550.23\n",
      "[300]\tvalid_0's rmse: 1546.49\n",
      "[350]\tvalid_0's rmse: 1542.8\n",
      "[400]\tvalid_0's rmse: 1538.91\n",
      "[450]\tvalid_0's rmse: 1536.23\n",
      "[500]\tvalid_0's rmse: 1532.49\n",
      "[550]\tvalid_0's rmse: 1530.95\n",
      "[600]\tvalid_0's rmse: 1528.84\n",
      "Early stopping, best iteration is:\n",
      "[609]\tvalid_0's rmse: 1528.41\n",
      "CPU times: user 28.6 s, sys: 269 ms, total: 28.8 s\n",
      "Wall time: 29.3 s\n"
     ]
    },
    {
     "data": {
      "text/plain": [
       "LGBMRegressor(boosting_type='gbdt', class_weight=None, colsample_bytree=1.0,\n",
       "              importance_type='split', learning_rate=0.2, max_depth=19,\n",
       "              metric='rmse', min_child_samples=20, min_child_weight=0.001,\n",
       "              min_split_gain=0.0, n_estimators=1000, n_jobs=-1, num_leaves=31,\n",
       "              objective=None, random_state=12345, reg_alpha=0.0, reg_lambda=0.0,\n",
       "              silent=True, subsample=1.0, subsample_for_bin=200000,\n",
       "              subsample_freq=0)"
      ]
     },
     "execution_count": 21,
     "metadata": {},
     "output_type": "execute_result"
    }
   ],
   "source": [
    "%%time\n",
    "lgbm_model.fit(features_train, target_train,\n",
    "               categorical_feature = сategorical, \n",
    "               eval_metric= 'rmse', \n",
    "               early_stopping_rounds = 10, \n",
    "               verbose = 50)"
   ]
  },
  {
   "cell_type": "code",
   "execution_count": 22,
   "metadata": {},
   "outputs": [
    {
     "name": "stdout",
     "output_type": "stream",
     "text": [
      "RMSE = 1528.4074482804353\n",
      "CPU times: user 4.04 s, sys: 1.83 ms, total: 4.04 s\n",
      "Wall time: 4.09 s\n"
     ]
    }
   ],
   "source": [
    "%%time\n",
    "prediction = lgbm_model.predict(features_test)\n",
    "print('RMSE =',  mean_squared_error(target_test, prediction)**0.5)"
   ]
  },
  {
   "cell_type": "markdown",
   "metadata": {},
   "source": [
    "Сведем данные в таблицу."
   ]
  },
  {
   "cell_type": "code",
   "execution_count": 24,
   "metadata": {},
   "outputs": [
    {
     "data": {
      "text/html": [
       "<div>\n",
       "<style scoped>\n",
       "    .dataframe tbody tr th:only-of-type {\n",
       "        vertical-align: middle;\n",
       "    }\n",
       "\n",
       "    .dataframe tbody tr th {\n",
       "        vertical-align: top;\n",
       "    }\n",
       "\n",
       "    .dataframe thead th {\n",
       "        text-align: right;\n",
       "    }\n",
       "</style>\n",
       "<table border=\"1\" class=\"dataframe\">\n",
       "  <thead>\n",
       "    <tr style=\"text-align: right;\">\n",
       "      <th></th>\n",
       "      <th>constant</th>\n",
       "      <th>random_forest</th>\n",
       "      <th>linear_regression</th>\n",
       "      <th>gradient_boosting</th>\n",
       "    </tr>\n",
       "  </thead>\n",
       "  <tbody>\n",
       "    <tr>\n",
       "      <td>fit_time</td>\n",
       "      <td>-</td>\n",
       "      <td>11.8</td>\n",
       "      <td>18.9</td>\n",
       "      <td>29.3</td>\n",
       "    </tr>\n",
       "    <tr>\n",
       "      <td>predict_time</td>\n",
       "      <td>0.008</td>\n",
       "      <td>0.5</td>\n",
       "      <td>0.2</td>\n",
       "      <td>4.1</td>\n",
       "    </tr>\n",
       "    <tr>\n",
       "      <td>RMSE_valid</td>\n",
       "      <td>-</td>\n",
       "      <td>1617.0</td>\n",
       "      <td>2372.0</td>\n",
       "      <td>1537.0</td>\n",
       "    </tr>\n",
       "    <tr>\n",
       "      <td>RMSE_test</td>\n",
       "      <td>4756</td>\n",
       "      <td>1589.0</td>\n",
       "      <td>2372.0</td>\n",
       "      <td>1528.0</td>\n",
       "    </tr>\n",
       "  </tbody>\n",
       "</table>\n",
       "</div>"
      ],
      "text/plain": [
       "             constant  random_forest  linear_regression  gradient_boosting\n",
       "fit_time            -           11.8               18.9               29.3\n",
       "predict_time    0.008            0.5                0.2                4.1\n",
       "RMSE_valid          -         1617.0             2372.0             1537.0\n",
       "RMSE_test        4756         1589.0             2372.0             1528.0"
      ]
     },
     "execution_count": 24,
     "metadata": {},
     "output_type": "execute_result"
    }
   ],
   "source": [
    "data = [['-', 11.8, 18.9, 29.3],\n",
    "        [0.008, 0.5, 0.2, 4.1],\n",
    "        ['-', 1617, 2372, 1537],\n",
    "        [4756, 1589, 2372, 1528]\n",
    "       ]\n",
    "\n",
    "table = pd.DataFrame(data)\n",
    "table.columns = ['constant', 'random_forest', 'linear_regression', 'gradient_boosting']\n",
    "table.index = ['fit_time', 'predict_time', 'RMSE_valid', 'RMSE_test']\n",
    "table"
   ]
  },
  {
   "cell_type": "markdown",
   "metadata": {},
   "source": [
    "Все модели показывают адекватность относительно константной модели.  \n",
    "Самое главное для данного сервиса - точность предсказаний, затем скорость предсказания и уже потом скорость обучения.  \n",
    "По совокупности факторов можно рекомендовать две модели: градиентного бустинга и случайного леса, при этом предпочтение я отдал бы бустингу, т.к точность предсказания в данном случае важнее скорости работы, к тому же предсказывать одну конкретную цену модель будет быстрее."
   ]
  }
 ],
 "metadata": {
  "kernelspec": {
   "display_name": "Python 3",
   "language": "python",
   "name": "python3"
  },
  "language_info": {
   "codemirror_mode": {
    "name": "ipython",
    "version": 3
   },
   "file_extension": ".py",
   "mimetype": "text/x-python",
   "name": "python",
   "nbconvert_exporter": "python",
   "pygments_lexer": "ipython3",
   "version": "3.7.6"
  }
 },
 "nbformat": 4,
 "nbformat_minor": 2
}
