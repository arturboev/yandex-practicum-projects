{
 "cells": [
  {
   "cell_type": "markdown",
   "metadata": {},
   "source": [
    "## 1. Изучение данных"
   ]
  },
  {
   "cell_type": "markdown",
   "metadata": {},
   "source": [
    "Загрузим необходимые библиотеки и функции."
   ]
  },
  {
   "cell_type": "code",
   "execution_count": 1,
   "metadata": {},
   "outputs": [],
   "source": [
    "import pandas as pd\n",
    "from sklearn.model_selection import train_test_split\n",
    "from sklearn.tree import DecisionTreeClassifier\n",
    "from sklearn.ensemble import RandomForestClassifier\n",
    "from sklearn.linear_model import LogisticRegression\n",
    "from sklearn.metrics import accuracy_score"
   ]
  },
  {
   "cell_type": "markdown",
   "metadata": {},
   "source": [
    "Загрузим файл и изучим данные."
   ]
  },
  {
   "cell_type": "code",
   "execution_count": 2,
   "metadata": {},
   "outputs": [
    {
     "data": {
      "text/html": [
       "<div>\n",
       "<style scoped>\n",
       "    .dataframe tbody tr th:only-of-type {\n",
       "        vertical-align: middle;\n",
       "    }\n",
       "\n",
       "    .dataframe tbody tr th {\n",
       "        vertical-align: top;\n",
       "    }\n",
       "\n",
       "    .dataframe thead th {\n",
       "        text-align: right;\n",
       "    }\n",
       "</style>\n",
       "<table border=\"1\" class=\"dataframe\">\n",
       "  <thead>\n",
       "    <tr style=\"text-align: right;\">\n",
       "      <th></th>\n",
       "      <th>calls</th>\n",
       "      <th>minutes</th>\n",
       "      <th>messages</th>\n",
       "      <th>mb_used</th>\n",
       "      <th>is_ultra</th>\n",
       "    </tr>\n",
       "  </thead>\n",
       "  <tbody>\n",
       "    <tr>\n",
       "      <td>0</td>\n",
       "      <td>40.0</td>\n",
       "      <td>311.90</td>\n",
       "      <td>83.0</td>\n",
       "      <td>19915.42</td>\n",
       "      <td>0</td>\n",
       "    </tr>\n",
       "    <tr>\n",
       "      <td>1</td>\n",
       "      <td>85.0</td>\n",
       "      <td>516.75</td>\n",
       "      <td>56.0</td>\n",
       "      <td>22696.96</td>\n",
       "      <td>0</td>\n",
       "    </tr>\n",
       "    <tr>\n",
       "      <td>2</td>\n",
       "      <td>77.0</td>\n",
       "      <td>467.66</td>\n",
       "      <td>86.0</td>\n",
       "      <td>21060.45</td>\n",
       "      <td>0</td>\n",
       "    </tr>\n",
       "    <tr>\n",
       "      <td>3</td>\n",
       "      <td>106.0</td>\n",
       "      <td>745.53</td>\n",
       "      <td>81.0</td>\n",
       "      <td>8437.39</td>\n",
       "      <td>1</td>\n",
       "    </tr>\n",
       "    <tr>\n",
       "      <td>4</td>\n",
       "      <td>66.0</td>\n",
       "      <td>418.74</td>\n",
       "      <td>1.0</td>\n",
       "      <td>14502.75</td>\n",
       "      <td>0</td>\n",
       "    </tr>\n",
       "  </tbody>\n",
       "</table>\n",
       "</div>"
      ],
      "text/plain": [
       "   calls  minutes  messages   mb_used  is_ultra\n",
       "0   40.0   311.90      83.0  19915.42         0\n",
       "1   85.0   516.75      56.0  22696.96         0\n",
       "2   77.0   467.66      86.0  21060.45         0\n",
       "3  106.0   745.53      81.0   8437.39         1\n",
       "4   66.0   418.74       1.0  14502.75         0"
      ]
     },
     "execution_count": 2,
     "metadata": {},
     "output_type": "execute_result"
    }
   ],
   "source": [
    "mobile = pd.read_csv('/datasets/users_behavior.csv')\n",
    "mobile.head()"
   ]
  },
  {
   "cell_type": "code",
   "execution_count": 3,
   "metadata": {},
   "outputs": [
    {
     "name": "stdout",
     "output_type": "stream",
     "text": [
      "<class 'pandas.core.frame.DataFrame'>\n",
      "RangeIndex: 3214 entries, 0 to 3213\n",
      "Data columns (total 5 columns):\n",
      "calls       3214 non-null float64\n",
      "minutes     3214 non-null float64\n",
      "messages    3214 non-null float64\n",
      "mb_used     3214 non-null float64\n",
      "is_ultra    3214 non-null int64\n",
      "dtypes: float64(4), int64(1)\n",
      "memory usage: 125.7 KB\n"
     ]
    }
   ],
   "source": [
    "mobile.info()"
   ]
  },
  {
   "cell_type": "markdown",
   "metadata": {},
   "source": [
    "## 2. Разбиение данных на выборки"
   ]
  },
  {
   "cell_type": "markdown",
   "metadata": {},
   "source": [
    "Разобъем данные на выборки: сначала на обучающую и валидационную+проверочную в соотношении 60:40, а затем меньшую еще раз на собственно валидационную и проверочную в соотношении 50:50. Получилось 3 выборки 60:20:20."
   ]
  },
  {
   "cell_type": "code",
   "execution_count": 4,
   "metadata": {},
   "outputs": [],
   "source": [
    "mobile_train, mobile_valid_test = train_test_split(mobile, test_size=0.4, random_state=12345)\n",
    "mobile_valid, mobile_test = train_test_split(mobile_valid_test, test_size=0.5, random_state=12345)"
   ]
  },
  {
   "cell_type": "markdown",
   "metadata": {},
   "source": [
    "Объявим признаки и целевые признаки для каждой выборки."
   ]
  },
  {
   "cell_type": "code",
   "execution_count": 5,
   "metadata": {},
   "outputs": [],
   "source": [
    "features_train = mobile_train.drop('is_ultra', axis=1)\n",
    "target_train = mobile_train['is_ultra']\n",
    "features_valid = mobile_valid.drop('is_ultra', axis=1)\n",
    "target_valid = mobile_valid['is_ultra']\n",
    "features_test = mobile_test.drop('is_ultra', axis=1)\n",
    "target_test = mobile_test['is_ultra']"
   ]
  },
  {
   "cell_type": "markdown",
   "metadata": {},
   "source": [
    "## 3. Исследование моделей"
   ]
  },
  {
   "cell_type": "markdown",
   "metadata": {},
   "source": [
    "Предсказывать необходимо категорию - какой из двух тарифов выбрать. Поэтому в качестве моделей выберем решающее дерево, случайный лес и логистическую регрессию.  \n",
    "Для дерева в цикле будем менять гиперпараметры max_depth, splitter и criterion."
   ]
  },
  {
   "cell_type": "markdown",
   "metadata": {},
   "source": [
    "<font color=blue>Стоит задача классификации, поэтому выбераем классификаторы."
   ]
  },
  {
   "cell_type": "code",
   "execution_count": 6,
   "metadata": {
    "scrolled": true
   },
   "outputs": [
    {
     "name": "stdout",
     "output_type": "stream",
     "text": [
      "Наибольшее значение accuracy - 0.7884914463452566 при:\n",
      "max_depth = 7\n",
      "splitter = random\n",
      "criterion = entropy\n"
     ]
    }
   ],
   "source": [
    "acc = 0\n",
    "crit_list = ['gini', 'entropy']\n",
    "split_list = ['best', 'random']\n",
    "for crit in crit_list:\n",
    "    for split in split_list:\n",
    "        for depth in range(1, 21, 1):\n",
    "            three_model = DecisionTreeClassifier(criterion=crit, splitter=split, random_state=12345, max_depth=depth)\n",
    "            three_model.fit(features_train, target_train)\n",
    "            prediction = three_model.predict(features_valid)\n",
    "            accuracy = accuracy_score(target_valid, prediction)\n",
    "            if accuracy > acc:\n",
    "                acc = accuracy\n",
    "                dep = depth\n",
    "                cr = crit\n",
    "                spl = split\n",
    "print('Наибольшее значение accuracy -', acc, 'при:')\n",
    "print('max_depth =', dep)\n",
    "print('splitter =', spl)\n",
    "print('criterion =', cr)"
   ]
  },
  {
   "cell_type": "markdown",
   "metadata": {},
   "source": [
    "Для случайного леса меняем в цикле гиперпараметры min_samples_split, max_depth и n_estimators."
   ]
  },
  {
   "cell_type": "code",
   "execution_count": 7,
   "metadata": {
    "scrolled": true
   },
   "outputs": [
    {
     "name": "stdout",
     "output_type": "stream",
     "text": [
      "Наибольшее значение accuracy - 0.8102643856920684 при:\n",
      "max_depth = 7\n",
      "n_estimators = 50\n",
      "min_samples_split = 3\n"
     ]
    }
   ],
   "source": [
    "acc = 0\n",
    "for mss in range(2,5,1):\n",
    "    for depth in range(1, 11, 1):\n",
    "        for estim in range(10, 101, 10):\n",
    "            forest_model = RandomForestClassifier(random_state=12345, n_estimators=estim, max_depth=depth, min_samples_split=mss)\n",
    "            forest_model.fit(features_train, target_train)\n",
    "            prediction = forest_model.predict(features_valid)\n",
    "            accuracy = accuracy_score(target_valid, prediction)\n",
    "            if accuracy > acc:\n",
    "                acc = accuracy\n",
    "                est = estim\n",
    "                dep = depth\n",
    "                ms = mss\n",
    "print('Наибольшее значение accuracy -', acc, 'при:')\n",
    "print('max_depth =', dep)\n",
    "print('n_estimators =', est)\n",
    "print('min_samples_split =', ms)"
   ]
  },
  {
   "cell_type": "markdown",
   "metadata": {},
   "source": [
    "Для логистической регрессии установим параметр solver='liblinear', что является хорошим выбором для небольших датасетов."
   ]
  },
  {
   "cell_type": "code",
   "execution_count": 8,
   "metadata": {},
   "outputs": [
    {
     "name": "stdout",
     "output_type": "stream",
     "text": [
      "Значение accuracy - 0.7589424572317263\n"
     ]
    }
   ],
   "source": [
    "regress_model = LogisticRegression(random_state=12345, solver='liblinear')\n",
    "regress_model.fit(features_train, target_train)\n",
    "regress_model.predict(features_valid)\n",
    "accuracy = regress_model.score(features_valid, target_valid)\n",
    "print('Значение accuracy -', accuracy)"
   ]
  },
  {
   "cell_type": "markdown",
   "metadata": {},
   "source": [
    "Итак, победу одержала модель \"случайный лес\" со значением n_estimators = 50. Не сильно отстало и решающее дерево, при том, что оно проще и считается намного быстрее (впрочем, на маленьких выборках это не принципиально). На последнем месте с небольшим отрывом - логистическая регрессия."
   ]
  },
  {
   "cell_type": "markdown",
   "metadata": {},
   "source": [
    "## 4. Проверка модели на тестовой выборке"
   ]
  },
  {
   "cell_type": "markdown",
   "metadata": {},
   "source": [
    "Проверим лучшую модель на тестовой выборке. Но сначала объединим для обучения обучающую и валидационную выборки. Тестовых данных в ней не будет, так что все честно."
   ]
  },
  {
   "cell_type": "code",
   "execution_count": 9,
   "metadata": {},
   "outputs": [
    {
     "name": "stdout",
     "output_type": "stream",
     "text": [
      "0.7962674961119751\n"
     ]
    }
   ],
   "source": [
    "model = RandomForestClassifier(random_state=12345, max_depth=7, n_estimators=50, min_samples_split=3)\n",
    "\n",
    "mob = pd.concat([mobile_train, mobile_valid])\n",
    "features = mob.drop('is_ultra', axis=1)\n",
    "target = mob['is_ultra']\n",
    "model.fit(features, target)\n",
    "\n",
    "prediction = model.predict(features_test)\n",
    "accuracy = accuracy_score(target_test, prediction)\n",
    "print(accuracy)"
   ]
  },
  {
   "cell_type": "code",
   "execution_count": 10,
   "metadata": {},
   "outputs": [
    {
     "name": "stdout",
     "output_type": "stream",
     "text": [
      "0.80248833592535\n"
     ]
    }
   ],
   "source": [
    "model_old = RandomForestClassifier(random_state=12345, n_estimators=50)\n",
    "\n",
    "model_old.fit(features, target)\n",
    "\n",
    "prediction_old = model_old.predict(features_test)\n",
    "accuracy_old = accuracy_score(target_test, prediction_old)\n",
    "print(accuracy_old)"
   ]
  },
  {
   "cell_type": "markdown",
   "metadata": {},
   "source": [
    "Как видим, значение accuracy на тестовой выборке немного уменьшилось по сравнению с валидационной, а также по сравнению с моделью без \"подкрутки\" настроек (хотя мы взяли гиперпараметры от модели, показавшей лучшие результаты на валидационной выборке). Похоже на переобучение."
   ]
  },
  {
   "cell_type": "markdown",
   "metadata": {},
   "source": [
    "## 5. Проверка модели на адекватность"
   ]
  },
  {
   "cell_type": "markdown",
   "metadata": {},
   "source": [
    "Проверим, какое значение accuracy получится, если мы не будем заморачиваться и во все ответы подставим нули."
   ]
  },
  {
   "cell_type": "code",
   "execution_count": 11,
   "metadata": {},
   "outputs": [
    {
     "data": {
      "text/plain": [
       "0.693528313627878"
      ]
     },
     "execution_count": 11,
     "metadata": {},
     "output_type": "execute_result"
    }
   ],
   "source": [
    "1 - mobile['is_ultra'].mean()"
   ]
  },
  {
   "cell_type": "markdown",
   "metadata": {},
   "source": [
    "Доля нулей - 69%, в данном случае это и будет точность предсказания. Наша же модель предсказывает с точностью 80%, что более адекватно."
   ]
  }
 ],
 "metadata": {
  "kernelspec": {
   "display_name": "Python 3",
   "language": "python",
   "name": "python3"
  },
  "language_info": {
   "codemirror_mode": {
    "name": "ipython",
    "version": 3
   },
   "file_extension": ".py",
   "mimetype": "text/x-python",
   "name": "python",
   "nbconvert_exporter": "python",
   "pygments_lexer": "ipython3",
   "version": "3.7.6"
  }
 },
 "nbformat": 4,
 "nbformat_minor": 2
}
