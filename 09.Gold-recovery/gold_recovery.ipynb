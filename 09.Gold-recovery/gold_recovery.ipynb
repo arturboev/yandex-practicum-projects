{
 "cells": [
  {
   "cell_type": "markdown",
   "metadata": {},
   "source": [
    "## Описание проекта\n",
    "\n",
    "Необходимо подготовить прототип модели машинного обучения, которая должна предсказать коэффициент восстановления золота из золотосодержащей руды. В нашем распоряжении данные с параметрами добычи и очистки."
   ]
  },
  {
   "cell_type": "markdown",
   "metadata": {},
   "source": [
    "# 1. Подготовка данных"
   ]
  },
  {
   "cell_type": "markdown",
   "metadata": {},
   "source": [
    "Загрузим необходимые библиотеки и функции."
   ]
  },
  {
   "cell_type": "code",
   "execution_count": 1,
   "metadata": {},
   "outputs": [],
   "source": [
    "import pandas as pd\n",
    "from sklearn.metrics import mean_absolute_error, make_scorer\n",
    "from sklearn.model_selection import cross_val_score\n",
    "from sklearn.tree import DecisionTreeRegressor\n",
    "from sklearn.ensemble import RandomForestRegressor\n",
    "from sklearn.linear_model import LinearRegression"
   ]
  },
  {
   "cell_type": "markdown",
   "metadata": {},
   "source": [
    "Прочтем данные."
   ]
  },
  {
   "cell_type": "code",
   "execution_count": 2,
   "metadata": {},
   "outputs": [
    {
     "name": "stdout",
     "output_type": "stream",
     "text": [
      "<class 'pandas.core.frame.DataFrame'>\n",
      "RangeIndex: 5856 entries, 0 to 5855\n",
      "Data columns (total 53 columns):\n",
      "date                                          5856 non-null object\n",
      "primary_cleaner.input.sulfate                 5554 non-null float64\n",
      "primary_cleaner.input.depressant              5572 non-null float64\n",
      "primary_cleaner.input.feed_size               5856 non-null float64\n",
      "primary_cleaner.input.xanthate                5690 non-null float64\n",
      "primary_cleaner.state.floatbank8_a_air        5840 non-null float64\n",
      "primary_cleaner.state.floatbank8_a_level      5840 non-null float64\n",
      "primary_cleaner.state.floatbank8_b_air        5840 non-null float64\n",
      "primary_cleaner.state.floatbank8_b_level      5840 non-null float64\n",
      "primary_cleaner.state.floatbank8_c_air        5840 non-null float64\n",
      "primary_cleaner.state.floatbank8_c_level      5840 non-null float64\n",
      "primary_cleaner.state.floatbank8_d_air        5840 non-null float64\n",
      "primary_cleaner.state.floatbank8_d_level      5840 non-null float64\n",
      "rougher.input.feed_ag                         5840 non-null float64\n",
      "rougher.input.feed_pb                         5840 non-null float64\n",
      "rougher.input.feed_rate                       5816 non-null float64\n",
      "rougher.input.feed_size                       5834 non-null float64\n",
      "rougher.input.feed_sol                        5789 non-null float64\n",
      "rougher.input.feed_au                         5840 non-null float64\n",
      "rougher.input.floatbank10_sulfate             5599 non-null float64\n",
      "rougher.input.floatbank10_xanthate            5733 non-null float64\n",
      "rougher.input.floatbank11_sulfate             5801 non-null float64\n",
      "rougher.input.floatbank11_xanthate            5503 non-null float64\n",
      "rougher.state.floatbank10_a_air               5839 non-null float64\n",
      "rougher.state.floatbank10_a_level             5840 non-null float64\n",
      "rougher.state.floatbank10_b_air               5839 non-null float64\n",
      "rougher.state.floatbank10_b_level             5840 non-null float64\n",
      "rougher.state.floatbank10_c_air               5839 non-null float64\n",
      "rougher.state.floatbank10_c_level             5840 non-null float64\n",
      "rougher.state.floatbank10_d_air               5839 non-null float64\n",
      "rougher.state.floatbank10_d_level             5840 non-null float64\n",
      "rougher.state.floatbank10_e_air               5839 non-null float64\n",
      "rougher.state.floatbank10_e_level             5840 non-null float64\n",
      "rougher.state.floatbank10_f_air               5839 non-null float64\n",
      "rougher.state.floatbank10_f_level             5840 non-null float64\n",
      "secondary_cleaner.state.floatbank2_a_air      5836 non-null float64\n",
      "secondary_cleaner.state.floatbank2_a_level    5840 non-null float64\n",
      "secondary_cleaner.state.floatbank2_b_air      5833 non-null float64\n",
      "secondary_cleaner.state.floatbank2_b_level    5840 non-null float64\n",
      "secondary_cleaner.state.floatbank3_a_air      5822 non-null float64\n",
      "secondary_cleaner.state.floatbank3_a_level    5840 non-null float64\n",
      "secondary_cleaner.state.floatbank3_b_air      5840 non-null float64\n",
      "secondary_cleaner.state.floatbank3_b_level    5840 non-null float64\n",
      "secondary_cleaner.state.floatbank4_a_air      5840 non-null float64\n",
      "secondary_cleaner.state.floatbank4_a_level    5840 non-null float64\n",
      "secondary_cleaner.state.floatbank4_b_air      5840 non-null float64\n",
      "secondary_cleaner.state.floatbank4_b_level    5840 non-null float64\n",
      "secondary_cleaner.state.floatbank5_a_air      5840 non-null float64\n",
      "secondary_cleaner.state.floatbank5_a_level    5840 non-null float64\n",
      "secondary_cleaner.state.floatbank5_b_air      5840 non-null float64\n",
      "secondary_cleaner.state.floatbank5_b_level    5840 non-null float64\n",
      "secondary_cleaner.state.floatbank6_a_air      5840 non-null float64\n",
      "secondary_cleaner.state.floatbank6_a_level    5840 non-null float64\n",
      "dtypes: float64(52), object(1)\n",
      "memory usage: 2.4+ MB\n"
     ]
    }
   ],
   "source": [
    "gold_train = pd.read_csv('/datasets/gold_recovery_train.csv')\n",
    "gold_test = pd.read_csv('/datasets/gold_recovery_test.csv')\n",
    "gold_full = pd.read_csv('/datasets/gold_recovery_full.csv')\n",
    "gold_test.info()"
   ]
  },
  {
   "cell_type": "markdown",
   "metadata": {},
   "source": [
    "Проверим правильность расчета эффективности обогащения. Вычислим её по формуле и найдем MAE между вычислениями и значениями 'rougher.output.recovery'. Только сначала избавимся от значений NaN и проведем соответствие между оставшимися значениями."
   ]
  },
  {
   "cell_type": "code",
   "execution_count": 3,
   "metadata": {},
   "outputs": [
    {
     "data": {
      "text/plain": [
       "1.0512313043960013e-14"
      ]
     },
     "execution_count": 3,
     "metadata": {},
     "output_type": "execute_result"
    }
   ],
   "source": [
    "test_recovery = (\n",
    "        gold_train['rougher.output.concentrate_au'] * \n",
    "        (gold_train['rougher.input.feed_au'] - gold_train['rougher.output.tail_au']) /\n",
    "        gold_train['rougher.input.feed_au'] / \n",
    "        (gold_train['rougher.output.concentrate_au'] - gold_train['rougher.output.tail_au']) * 100\n",
    ")\n",
    "\n",
    "test_recovery = test_recovery.dropna()\n",
    "recovery = gold_train['rougher.output.recovery'].dropna()\n",
    "mean_absolute_error(recovery, test_recovery[recovery.index])"
   ]
  },
  {
   "cell_type": "markdown",
   "metadata": {},
   "source": [
    "MAE исчезающе мало, практически равно нулю, эффективность обогащения посчитана правильно."
   ]
  },
  {
   "cell_type": "markdown",
   "metadata": {},
   "source": [
    "Посмотрим на признаки, недоступные в тестовой выборке."
   ]
  },
  {
   "cell_type": "code",
   "execution_count": 4,
   "metadata": {},
   "outputs": [
    {
     "data": {
      "text/plain": [
       "{'final.output.concentrate_ag',\n",
       " 'final.output.concentrate_au',\n",
       " 'final.output.concentrate_pb',\n",
       " 'final.output.concentrate_sol',\n",
       " 'final.output.recovery',\n",
       " 'final.output.tail_ag',\n",
       " 'final.output.tail_au',\n",
       " 'final.output.tail_pb',\n",
       " 'final.output.tail_sol',\n",
       " 'primary_cleaner.output.concentrate_ag',\n",
       " 'primary_cleaner.output.concentrate_au',\n",
       " 'primary_cleaner.output.concentrate_pb',\n",
       " 'primary_cleaner.output.concentrate_sol',\n",
       " 'primary_cleaner.output.tail_ag',\n",
       " 'primary_cleaner.output.tail_au',\n",
       " 'primary_cleaner.output.tail_pb',\n",
       " 'primary_cleaner.output.tail_sol',\n",
       " 'rougher.calculation.au_pb_ratio',\n",
       " 'rougher.calculation.floatbank10_sulfate_to_au_feed',\n",
       " 'rougher.calculation.floatbank11_sulfate_to_au_feed',\n",
       " 'rougher.calculation.sulfate_to_au_concentrate',\n",
       " 'rougher.output.concentrate_ag',\n",
       " 'rougher.output.concentrate_au',\n",
       " 'rougher.output.concentrate_pb',\n",
       " 'rougher.output.concentrate_sol',\n",
       " 'rougher.output.recovery',\n",
       " 'rougher.output.tail_ag',\n",
       " 'rougher.output.tail_au',\n",
       " 'rougher.output.tail_pb',\n",
       " 'rougher.output.tail_sol',\n",
       " 'secondary_cleaner.output.tail_ag',\n",
       " 'secondary_cleaner.output.tail_au',\n",
       " 'secondary_cleaner.output.tail_pb',\n",
       " 'secondary_cleaner.output.tail_sol'}"
      ]
     },
     "execution_count": 4,
     "metadata": {},
     "output_type": "execute_result"
    }
   ],
   "source": [
    "set(gold_train.columns) - set(gold_test.columns)"
   ]
  },
  {
   "cell_type": "markdown",
   "metadata": {},
   "source": [
    "Как видим, тестовая выборка не содержит параметры продуктов на выходе после каждого этапа и расчетные характеристики. Эти признаки появляются в ходе процесса или расчитываются на основе исходных параметров и сами по себе не влияют на целевой признак, поэтому эти столбцы (за исключением двух таргетов) можно смело удалить из обучающей выборки. Также можно удалить столбец с датой."
   ]
  },
  {
   "cell_type": "code",
   "execution_count": 5,
   "metadata": {},
   "outputs": [],
   "source": [
    "numeric = list(set(gold_train.columns) - set(gold_test.columns))\n",
    "numeric.remove('final.output.recovery')\n",
    "numeric.remove('rougher.output.recovery')\n",
    "gold_train = gold_train.drop(numeric, axis=1)\n",
    "gold_train = gold_train.drop('date', axis=1).dropna()"
   ]
  },
  {
   "cell_type": "markdown",
   "metadata": {},
   "source": [
    "# 2. Анализ данных"
   ]
  },
  {
   "cell_type": "markdown",
   "metadata": {},
   "source": [
    "Посмотрим, как меняется концентрация металлов после каждого этама очистки."
   ]
  },
  {
   "cell_type": "code",
   "execution_count": 6,
   "metadata": {},
   "outputs": [
    {
     "name": "stdout",
     "output_type": "stream",
     "text": [
      "После флотации:\n",
      "Увеличение концентрации золота: 2.363193446719693\n",
      "Увеличение концентрации серебра: 1.3482354981012192\n",
      "Увеличение концентрации свинца: 2.0875145115084206\n",
      "\n",
      "После первичной очистки:\n",
      "Увеличение концентрации золота: 1.6338391053777537\n",
      "Увеличение концентрации серебра: 0.7073119004434527\n",
      "Увеличение концентрации свинца: 1.2927933920107584\n",
      "\n",
      "После вторичной очистки:\n",
      "Увеличение концентрации золота: 1.3693268714333477\n",
      "Увеличение концентрации серебра: 0.6216557377038314\n",
      "Увеличение концентрации свинца: 1.019526523936323\n"
     ]
    }
   ],
   "source": [
    "print('После флотации:')\n",
    "print(\"Увеличение концентрации золота:\", \n",
    "      gold_full['rougher.output.concentrate_au'].mean() / gold_full['rougher.input.feed_au'].mean())\n",
    "print(\"Увеличение концентрации серебра:\", \n",
    "      gold_full['rougher.output.concentrate_ag'].mean() / gold_full['rougher.input.feed_ag'].mean())\n",
    "print(\"Увеличение концентрации свинца:\", \n",
    "      gold_full['rougher.output.concentrate_pb'].mean() / gold_full['rougher.input.feed_pb'].mean())\n",
    "print()\n",
    "print('После первичной очистки:')\n",
    "print(\"Увеличение концентрации золота:\", \n",
    "      gold_full['primary_cleaner.output.concentrate_au'].mean() / gold_full['rougher.output.concentrate_au'].mean())\n",
    "print(\"Увеличение концентрации серебра:\", \n",
    "      gold_full['primary_cleaner.output.concentrate_ag'].mean() / gold_full['rougher.output.concentrate_ag'].mean())\n",
    "print(\"Увеличение концентрации свинца:\", \n",
    "      gold_full['primary_cleaner.output.concentrate_pb'].mean() / gold_full['rougher.output.concentrate_pb'].mean())\n",
    "print()\n",
    "print('После вторичной очистки:')\n",
    "print(\"Увеличение концентрации золота:\", \n",
    "      gold_full['final.output.concentrate_au'].mean() / gold_full['primary_cleaner.output.concentrate_au'].mean())\n",
    "print(\"Увеличение концентрации серебра:\", \n",
    "      gold_full['final.output.concentrate_ag'].mean() / gold_full['primary_cleaner.output.concentrate_ag'].mean())\n",
    "print(\"Увеличение концентрации свинца:\", \n",
    "      gold_full['final.output.concentrate_pb'].mean() / gold_full['primary_cleaner.output.concentrate_pb'].mean())"
   ]
  },
  {
   "cell_type": "markdown",
   "metadata": {},
   "source": [
    "Итак, концентрация золота на каждом этапе увеличивается. Также незначительно увеличивается содержание свинца, а вот содержание серебра сначала тоже увеличивается, а после певого и второго этапа очистки уменьшается.  \n",
    "Но наша цель - золото, так что серебром пренебрежем."
   ]
  },
  {
   "cell_type": "markdown",
   "metadata": {},
   "source": [
    "Посмотрим на распределение размеров гранул в обучающей и тестовой выборках."
   ]
  },
  {
   "cell_type": "code",
   "execution_count": 7,
   "metadata": {},
   "outputs": [
    {
     "data": {
      "image/png": "[encoded data removed]",
      "text/plain": [
       "<Figure size 432x288 with 1 Axes>"
      ]
     },
     "metadata": {
      "needs_background": "light"
     },
     "output_type": "display_data"
    }
   ],
   "source": [
    "gold_train['primary_cleaner.input.feed_size'].hist();\n",
    "gold_test['primary_cleaner.input.feed_size'].hist();"
   ]
  },
  {
   "cell_type": "markdown",
   "metadata": {},
   "source": [
    "Распределения совпадают, значит оценка модели должна быть адекватной."
   ]
  },
  {
   "cell_type": "markdown",
   "metadata": {},
   "source": [
    "Посмотрим на распределение суммарной концентрации веществ на различных стадиях процесса."
   ]
  },
  {
   "cell_type": "code",
   "execution_count": 8,
   "metadata": {},
   "outputs": [
    {
     "data": {
      "image/png": "[encoded data removed]",
      "text/plain": [
       "<Figure size 432x288 with 1 Axes>"
      ]
     },
     "metadata": {
      "needs_background": "light"
     },
     "output_type": "display_data"
    }
   ],
   "source": [
    "(gold_full['rougher.input.feed_au'] + \n",
    " gold_full['rougher.input.feed_ag'] + \n",
    " gold_full['rougher.input.feed_pb'] +\n",
    " gold_full['rougher.input.feed_sol']\n",
    ").hist(bins=50);"
   ]
  },
  {
   "cell_type": "code",
   "execution_count": 9,
   "metadata": {},
   "outputs": [
    {
     "data": {
      "image/png": "[encoded data removed]",
      "text/plain": [
       "<Figure size 432x288 with 1 Axes>"
      ]
     },
     "metadata": {
      "needs_background": "light"
     },
     "output_type": "display_data"
    }
   ],
   "source": [
    "(gold_full['rougher.output.concentrate_au'] + \n",
    " gold_full['rougher.output.concentrate_ag'] + \n",
    " gold_full['rougher.output.concentrate_pb'] +\n",
    " gold_full['rougher.output.concentrate_sol']\n",
    ").hist(bins=50);"
   ]
  },
  {
   "cell_type": "code",
   "execution_count": 10,
   "metadata": {},
   "outputs": [
    {
     "data": {
      "image/png": "[encoded data removed]",
      "text/plain": [
       "<Figure size 432x288 with 1 Axes>"
      ]
     },
     "metadata": {
      "needs_background": "light"
     },
     "output_type": "display_data"
    }
   ],
   "source": [
    "(gold_full['primary_cleaner.output.concentrate_au'] + \n",
    " gold_full['primary_cleaner.output.concentrate_ag'] + \n",
    " gold_full['primary_cleaner.output.concentrate_pb'] +\n",
    " gold_full['primary_cleaner.output.concentrate_sol']\n",
    ").hist(bins=50);"
   ]
  },
  {
   "cell_type": "code",
   "execution_count": 11,
   "metadata": {},
   "outputs": [
    {
     "data": {
      "image/png": "[encoded data removed]",
      "text/plain": [
       "<Figure size 432x288 with 1 Axes>"
      ]
     },
     "metadata": {
      "needs_background": "light"
     },
     "output_type": "display_data"
    }
   ],
   "source": [
    "(gold_full['final.output.concentrate_au'] + \n",
    " gold_full['final.output.concentrate_ag'] + \n",
    " gold_full['final.output.concentrate_pb'] +\n",
    " gold_full['final.output.concentrate_sol']\n",
    ").hist(bins=50);"
   ]
  },
  {
   "cell_type": "markdown",
   "metadata": {},
   "source": [
    "На всех стадиях явно заметна аномалия в районе нулевой отметки. Эта аномалия скорее всего негативно скажется на обучении модели, поэтому лучше эти значения удалить."
   ]
  },
  {
   "cell_type": "code",
   "execution_count": 12,
   "metadata": {},
   "outputs": [
    {
     "data": {
      "image/png": "[encoded data removed]",
      "text/plain": [
       "<Figure size 432x288 with 1 Axes>"
      ]
     },
     "metadata": {
      "needs_background": "light"
     },
     "output_type": "display_data"
    }
   ],
   "source": [
    "gold_train['sum'] = (\n",
    "    gold_train['rougher.input.feed_au'] + \n",
    "    gold_train['rougher.input.feed_ag'] + \n",
    "    gold_train['rougher.input.feed_pb'] +\n",
    "    gold_train['rougher.input.feed_sol']\n",
    ")\n",
    "gold_train = gold_train.query('sum>0')\n",
    "gold_train['sum'].hist(bins=50);"
   ]
  },
  {
   "cell_type": "code",
   "execution_count": 13,
   "metadata": {},
   "outputs": [
    {
     "data": {
      "image/png": "[encoded data removed]",
      "text/plain": [
       "<Figure size 432x288 with 1 Axes>"
      ]
     },
     "metadata": {
      "needs_background": "light"
     },
     "output_type": "display_data"
    }
   ],
   "source": [
    "gold_test['sum'] = (\n",
    "    gold_test['rougher.input.feed_au'] + \n",
    "    gold_test['rougher.input.feed_ag'] + \n",
    "    gold_test['rougher.input.feed_pb'] +\n",
    "    gold_test['rougher.input.feed_sol']\n",
    ")\n",
    "#gold_test = gold_test.query('sum>0').dropna()\n",
    "gold_test = gold_test.query('sum>0')\n",
    "gold_test['sum'].hist(bins=50);"
   ]
  },
  {
   "cell_type": "code",
   "execution_count": 14,
   "metadata": {},
   "outputs": [],
   "source": [
    "gold_train = gold_train.drop('sum', axis=1)\n",
    "gold_test = gold_test.drop('sum', axis=1)"
   ]
  },
  {
   "cell_type": "markdown",
   "metadata": {},
   "source": [
    "Аномалия удалена можно приступать к обучению модели."
   ]
  },
  {
   "cell_type": "markdown",
   "metadata": {},
   "source": [
    "# 3. Модель"
   ]
  },
  {
   "cell_type": "markdown",
   "metadata": {},
   "source": [
    "У нас два целевых признака."
   ]
  },
  {
   "cell_type": "code",
   "execution_count": 15,
   "metadata": {},
   "outputs": [],
   "source": [
    "features = gold_train.drop(['rougher.output.recovery', 'final.output.recovery'], axis=1)\n",
    "target_1 = gold_train['rougher.output.recovery']\n",
    "target_2 = gold_train['final.output.recovery']"
   ]
  },
  {
   "cell_type": "markdown",
   "metadata": {},
   "source": [
    "Напишем функцию для расчета sMAPE и сделаем её метрикой."
   ]
  },
  {
   "cell_type": "code",
   "execution_count": 16,
   "metadata": {},
   "outputs": [],
   "source": [
    "def smape(target, predict):\n",
    "    smape = (abs(target - predict) / (abs(target) + abs(predict)) * 2).sum() / len(target)\n",
    "    return smape\n",
    "\n",
    "scorer = make_scorer(smape)"
   ]
  },
  {
   "cell_type": "markdown",
   "metadata": {},
   "source": [
    "Теперь напишем функцию для расчета итогового sMAPE. "
   ]
  },
  {
   "cell_type": "code",
   "execution_count": 17,
   "metadata": {},
   "outputs": [],
   "source": [
    "def final_smape(model):\n",
    "    score_1 = cross_val_score(model, features, target_1, cv=3, scoring=scorer).mean()\n",
    "    score_2 = cross_val_score(model, features, target_2, cv=3, scoring=scorer).mean()\n",
    "    full_score = 0.25*score_1 + 0.75*score_2\n",
    "    return full_score"
   ]
  },
  {
   "cell_type": "markdown",
   "metadata": {},
   "source": [
    "Посчитаем лучший скор для решающего дерева с перебором параметров.  \n",
    "ПРИ ТЕСТИРОВАНИИ ПАРАМЕТР max_depth МЕНЯЛСЯ В ДИАПАЗОНЕ (1, 11, 1). ВРЕМЯ РАБОТЫ ЦИКЛОВ СОСТАВЛЯЛО 28 МИН., А РЕЗУЛЬТАТ БЫЛ ТАКИМ ЖЕ, ПОЭТОМУ ДЛЯ ДЕМОНСТРАЦИИ КОЛИЧЕСТВО ИТЕРАЦИЙ СОКРАЩЕНО."
   ]
  },
  {
   "cell_type": "code",
   "execution_count": 18,
   "metadata": {},
   "outputs": [
    {
     "name": "stdout",
     "output_type": "stream",
     "text": [
      "Наименьшее значение итогового sMAPE 10.34% при:\n",
      "max_depth = 1\n",
      "splitter = best\n",
      "criterion = mae\n",
      "CPU times: user 3min 18s, sys: 91.4 ms, total: 3min 18s\n",
      "Wall time: 3min 19s\n"
     ]
    }
   ],
   "source": [
    "%%time\n",
    "full_score_min = 1\n",
    "crit_list = ['mse', 'friedman_mse', 'mae']\n",
    "split_list = ['best', 'random']\n",
    "for crit in crit_list:\n",
    "    for split in split_list:\n",
    "        for depth in range(1, 3, 1):\n",
    "            model = DecisionTreeRegressor(criterion=crit, splitter=split, random_state=12345, max_depth=depth)\n",
    "            full_score = final_smape(model)\n",
    "            if full_score < full_score_min:\n",
    "                full_score_min = full_score\n",
    "                dep = depth\n",
    "                cr = crit\n",
    "                spl = split\n",
    "print('Наименьшее значение итогового sMAPE {:.2%}'.format(full_score_min), 'при:')\n",
    "print('max_depth =', dep)\n",
    "print('splitter =', spl)\n",
    "print('criterion =', cr)"
   ]
  },
  {
   "cell_type": "markdown",
   "metadata": {},
   "source": [
    "Теперь то же для случайного леса.  \n",
    "ПРИ ТЕСТИРОВАНИИ ПАРАМЕТР max_depth МЕНЯЛСЯ В ДИАПАЗОНЕ (1, 11, 1), ПАРАМЕТР n_estimators - В ДИАПАЗОНЕ(10,101,10). ВРЕМЯ РАБОТЫ ЦИКЛОВ СОСТАВЛЯЛО ОКОЛО 1.5 ЧАСОВ, А РЕЗУЛЬТАТ БЫЛ ТАКИМ ЖЕ, ПОЭТОМУ ДЛЯ ДЕМОНСТРАЦИИ КОЛИЧЕСТВО ИТЕРАЦИЙ СОКРАЩЕНО."
   ]
  },
  {
   "cell_type": "code",
   "execution_count": 19,
   "metadata": {},
   "outputs": [
    {
     "name": "stdout",
     "output_type": "stream",
     "text": [
      "Наименьшее значение итогового sMAPE 10.25% при:\n",
      "max_depth = 1\n",
      "n_estimators = 10\n",
      "CPU times: user 38.7 s, sys: 48 ms, total: 38.8 s\n",
      "Wall time: 39.2 s\n"
     ]
    }
   ],
   "source": [
    "%%time\n",
    "full_score_min = 1\n",
    "for estim in range(10, 31, 10):\n",
    "    for depth in range(1, 3, 1):\n",
    "        model = RandomForestRegressor(n_estimators=estim, max_depth=depth, random_state=12345)\n",
    "        full_score = final_smape(model)\n",
    "        if full_score < full_score_min:\n",
    "            full_score_min = full_score\n",
    "            est = estim\n",
    "            dep = depth\n",
    "print('Наименьшее значение итогового sMAPE {:.2%}'.format(full_score_min), 'при:')\n",
    "print('max_depth =', dep)\n",
    "print('n_estimators =', est)"
   ]
  },
  {
   "cell_type": "markdown",
   "metadata": {},
   "source": [
    "Наконец посчитаем наш скор для линейной регрессии."
   ]
  },
  {
   "cell_type": "code",
   "execution_count": 20,
   "metadata": {},
   "outputs": [
    {
     "name": "stdout",
     "output_type": "stream",
     "text": [
      "Итоговый sMAPE 12.06%\n"
     ]
    }
   ],
   "source": [
    "model = LinearRegression()\n",
    "print('Итоговый sMAPE {:.2%}'.format(final_smape(model)))"
   ]
  },
  {
   "cell_type": "markdown",
   "metadata": {},
   "source": [
    "sMAPE характеризует отклонение предсказания от таргета, поэтому чем оно меньше, тем лучше. Здесь победил лес. Проверим его на тесте, но сначала подтянем целевые признаки для тестовой выборки из полной и избавимся от NaN-ов."
   ]
  },
  {
   "cell_type": "code",
   "execution_count": 21,
   "metadata": {},
   "outputs": [
    {
     "name": "stdout",
     "output_type": "stream",
     "text": [
      "Итоговый sMAPE 8.88%\n"
     ]
    }
   ],
   "source": [
    "gold_test.index = gold_test['date']\n",
    "gold_full.index = gold_full['date']\n",
    "gold_test['rougher.output.recovery'] = gold_full['rougher.output.recovery'][gold_test.index]\n",
    "gold_test['final.output.recovery'] = gold_full['final.output.recovery'][gold_test.index]\n",
    "gold_test = gold_test.dropna()\n",
    "\n",
    "features = gold_test.drop(['rougher.output.recovery', 'final.output.recovery', 'date'], axis=1)\n",
    "target_1 = gold_test['rougher.output.recovery']\n",
    "target_2 = gold_test['final.output.recovery']\n",
    "\n",
    "model = RandomForestRegressor(n_estimators=10, max_depth=1, random_state=12345)\n",
    "print('Итоговый sMAPE {:.2%}'.format(final_smape(model)))"
   ]
  },
  {
   "cell_type": "markdown",
   "metadata": {},
   "source": [
    "Попробуем сравнить наш результат с результатом, полученным для константной модели (возьмем медианное значение для каждого таргета из обучающей выборки)"
   ]
  },
  {
   "cell_type": "code",
   "execution_count": 22,
   "metadata": {},
   "outputs": [
    {
     "name": "stdout",
     "output_type": "stream",
     "text": [
      "Итоговый sMAPE константной модели 9.08%\n"
     ]
    }
   ],
   "source": [
    "prediction_1 = pd.Series(gold_train['rougher.output.recovery'].median(), target_1.index)\n",
    "prediction_2 = pd.Series(gold_train['final.output.recovery'].median(), target_2.index)\n",
    "smape_1 = smape(target_1, prediction_1)\n",
    "smape_2 = smape(target_2, prediction_2)\n",
    "full_smape = 0.25*smape_1 + 0.75*smape_2\n",
    "print('Итоговый sMAPE константной модели {:.2%}'.format(full_smape))"
   ]
  },
  {
   "cell_type": "markdown",
   "metadata": {},
   "source": [
    "Итак, наша лучшая модель все-таки обошла константную, хотя и не слишком сильно. Достаточно большая точность константной модели говорит о небольшом разбросе параметра относительно медианы. Тем не менее нашу модель всё же можно рекомендовать в качестве прогностической."
   ]
  }
 ],
 "metadata": {
  "kernelspec": {
   "display_name": "Python 3",
   "language": "python",
   "name": "python3"
  },
  "language_info": {
   "codemirror_mode": {
    "name": "ipython",
    "version": 3
   },
   "file_extension": ".py",
   "mimetype": "text/x-python",
   "name": "python",
   "nbconvert_exporter": "python",
   "pygments_lexer": "ipython3",
   "version": "3.7.6"
  }
 },
 "nbformat": 4,
 "nbformat_minor": 2
}
