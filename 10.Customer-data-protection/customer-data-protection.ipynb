{
 "cells": [
  {
   "cell_type": "markdown",
   "metadata": {},
   "source": [
    "## Описание проекта\n",
    "Нужно защитить данные клиентов страховой компании. Необходимо разработать такой метод преобразования данных, чтобы по ним было сложно восстановить персональную информацию.  \n",
    "Защитить данные надо так, чтобы при преобразовании качество моделей машинного обучения не ухудшилось."
   ]
  },
  {
   "cell_type": "markdown",
   "metadata": {},
   "source": [
    "## 1. Загрузка данных"
   ]
  },
  {
   "cell_type": "markdown",
   "metadata": {},
   "source": [
    "Загрузим необходимые библиотеки и функции."
   ]
  },
  {
   "cell_type": "code",
   "execution_count": 1,
   "metadata": {},
   "outputs": [],
   "source": [
    "import numpy as np\n",
    "import pandas as pd\n",
    "from sklearn.model_selection import train_test_split\n",
    "from sklearn.metrics import r2_score\n",
    "from sklearn.linear_model import LinearRegression\n",
    "import matplotlib.pyplot as plt"
   ]
  },
  {
   "cell_type": "markdown",
   "metadata": {},
   "source": [
    "Прочтем данные"
   ]
  },
  {
   "cell_type": "code",
   "execution_count": 2,
   "metadata": {},
   "outputs": [
    {
     "data": {
      "text/html": [
       "<div>\n",
       "<style scoped>\n",
       "    .dataframe tbody tr th:only-of-type {\n",
       "        vertical-align: middle;\n",
       "    }\n",
       "\n",
       "    .dataframe tbody tr th {\n",
       "        vertical-align: top;\n",
       "    }\n",
       "\n",
       "    .dataframe thead th {\n",
       "        text-align: right;\n",
       "    }\n",
       "</style>\n",
       "<table border=\"1\" class=\"dataframe\">\n",
       "  <thead>\n",
       "    <tr style=\"text-align: right;\">\n",
       "      <th></th>\n",
       "      <th>Пол</th>\n",
       "      <th>Возраст</th>\n",
       "      <th>Зарплата</th>\n",
       "      <th>Члены семьи</th>\n",
       "      <th>Страховые выплаты</th>\n",
       "    </tr>\n",
       "  </thead>\n",
       "  <tbody>\n",
       "    <tr>\n",
       "      <td>0</td>\n",
       "      <td>1</td>\n",
       "      <td>41.0</td>\n",
       "      <td>49600.0</td>\n",
       "      <td>1</td>\n",
       "      <td>0</td>\n",
       "    </tr>\n",
       "    <tr>\n",
       "      <td>1</td>\n",
       "      <td>0</td>\n",
       "      <td>46.0</td>\n",
       "      <td>38000.0</td>\n",
       "      <td>1</td>\n",
       "      <td>1</td>\n",
       "    </tr>\n",
       "    <tr>\n",
       "      <td>2</td>\n",
       "      <td>0</td>\n",
       "      <td>29.0</td>\n",
       "      <td>21000.0</td>\n",
       "      <td>0</td>\n",
       "      <td>0</td>\n",
       "    </tr>\n",
       "    <tr>\n",
       "      <td>3</td>\n",
       "      <td>0</td>\n",
       "      <td>21.0</td>\n",
       "      <td>41700.0</td>\n",
       "      <td>2</td>\n",
       "      <td>0</td>\n",
       "    </tr>\n",
       "    <tr>\n",
       "      <td>4</td>\n",
       "      <td>1</td>\n",
       "      <td>28.0</td>\n",
       "      <td>26100.0</td>\n",
       "      <td>0</td>\n",
       "      <td>0</td>\n",
       "    </tr>\n",
       "  </tbody>\n",
       "</table>\n",
       "</div>"
      ],
      "text/plain": [
       "   Пол  Возраст  Зарплата  Члены семьи  Страховые выплаты\n",
       "0    1     41.0   49600.0            1                  0\n",
       "1    0     46.0   38000.0            1                  1\n",
       "2    0     29.0   21000.0            0                  0\n",
       "3    0     21.0   41700.0            2                  0\n",
       "4    1     28.0   26100.0            0                  0"
      ]
     },
     "execution_count": 2,
     "metadata": {},
     "output_type": "execute_result"
    }
   ],
   "source": [
    "insurance = pd.read_csv('/datasets/insurance.csv')\n",
    "insurance.head()"
   ]
  },
  {
   "cell_type": "markdown",
   "metadata": {},
   "source": [
    "Проведем исследовательский анализ данных.  \n",
    "Переименуем столбцы (для удобства) и посмотрим на разброс параметров."
   ]
  },
  {
   "cell_type": "code",
   "execution_count": 3,
   "metadata": {},
   "outputs": [
    {
     "name": "stdout",
     "output_type": "stream",
     "text": [
      "Возраст от 18 до 65 лет.\n",
      "Зарплата от 5300 до 79000 руб.\n",
      "Членов семьи от 0 до 6 человек.\n",
      "Страховые выплаты от 0 до 5 раз.\n"
     ]
    }
   ],
   "source": [
    "insurance.columns = ['пол', 'возраст', 'зарплата', 'члены_семьи', 'страховые_выплаты']\n",
    "\n",
    "print('Возраст от', int(insurance['возраст'].min()), 'до', int(insurance['возраст'].max()), 'лет.')\n",
    "print('Зарплата от', int(insurance['зарплата'].min()), 'до', int(insurance['зарплата'].max()), 'руб.')\n",
    "print('Членов семьи от', insurance['члены_семьи'].min(), 'до', insurance['члены_семьи'].max(), 'человек.')\n",
    "print('Страховые выплаты от', insurance['страховые_выплаты'].min(), 'до', insurance['страховые_выплаты'].max(), 'раз.')"
   ]
  },
  {
   "cell_type": "markdown",
   "metadata": {},
   "source": [
    "Параметры укладываются в разумные пределы. Конечно, зарплата в 5300р. маловата, но в принципе возможна. Ноль членов семьи - видимо, имеются в виду одинокие и бездетные.  \n",
    "Теперь проверим на пропуски."
   ]
  },
  {
   "cell_type": "code",
   "execution_count": 4,
   "metadata": {},
   "outputs": [
    {
     "name": "stdout",
     "output_type": "stream",
     "text": [
      "<class 'pandas.core.frame.DataFrame'>\n",
      "RangeIndex: 5000 entries, 0 to 4999\n",
      "Data columns (total 5 columns):\n",
      "пол                  5000 non-null int64\n",
      "возраст              5000 non-null float64\n",
      "зарплата             5000 non-null float64\n",
      "члены_семьи          5000 non-null int64\n",
      "страховые_выплаты    5000 non-null int64\n",
      "dtypes: float64(2), int64(3)\n",
      "memory usage: 195.4 KB\n"
     ]
    }
   ],
   "source": [
    "insurance.info()"
   ]
  },
  {
   "cell_type": "markdown",
   "metadata": {},
   "source": [
    "Пропусков нет. Дубликаты."
   ]
  },
  {
   "cell_type": "code",
   "execution_count": 5,
   "metadata": {},
   "outputs": [
    {
     "data": {
      "text/plain": [
       "153"
      ]
     },
     "execution_count": 5,
     "metadata": {},
     "output_type": "execute_result"
    }
   ],
   "source": [
    "insurance.duplicated().sum()"
   ]
  },
  {
   "cell_type": "markdown",
   "metadata": {},
   "source": [
    "153 дубликата. Люди одного пола и возраста, с одинаковой зарплатой, составом семьи и одинаково получающие страховые выплаты в относительно небольшой выборке из 5000 человек? Возможно, но очень маловероятно. Удаляем дубликаты."
   ]
  },
  {
   "cell_type": "code",
   "execution_count": 6,
   "metadata": {},
   "outputs": [],
   "source": [
    "insurance.drop_duplicates(inplace=True)"
   ]
  },
  {
   "cell_type": "markdown",
   "metadata": {},
   "source": [
    "Посмотрим на корреляцию признаков между собой и с целевым признаком."
   ]
  },
  {
   "cell_type": "code",
   "execution_count": 7,
   "metadata": {},
   "outputs": [
    {
     "data": {
      "text/html": [
       "<div>\n",
       "<style scoped>\n",
       "    .dataframe tbody tr th:only-of-type {\n",
       "        vertical-align: middle;\n",
       "    }\n",
       "\n",
       "    .dataframe tbody tr th {\n",
       "        vertical-align: top;\n",
       "    }\n",
       "\n",
       "    .dataframe thead th {\n",
       "        text-align: right;\n",
       "    }\n",
       "</style>\n",
       "<table border=\"1\" class=\"dataframe\">\n",
       "  <thead>\n",
       "    <tr style=\"text-align: right;\">\n",
       "      <th></th>\n",
       "      <th>пол</th>\n",
       "      <th>возраст</th>\n",
       "      <th>зарплата</th>\n",
       "      <th>члены_семьи</th>\n",
       "      <th>страховые_выплаты</th>\n",
       "    </tr>\n",
       "  </thead>\n",
       "  <tbody>\n",
       "    <tr>\n",
       "      <td>пол</td>\n",
       "      <td>1.000000</td>\n",
       "      <td>0.001953</td>\n",
       "      <td>0.015456</td>\n",
       "      <td>-0.007315</td>\n",
       "      <td>0.011565</td>\n",
       "    </tr>\n",
       "    <tr>\n",
       "      <td>возраст</td>\n",
       "      <td>0.001953</td>\n",
       "      <td>1.000000</td>\n",
       "      <td>-0.017386</td>\n",
       "      <td>-0.009064</td>\n",
       "      <td>0.654964</td>\n",
       "    </tr>\n",
       "    <tr>\n",
       "      <td>зарплата</td>\n",
       "      <td>0.015456</td>\n",
       "      <td>-0.017386</td>\n",
       "      <td>1.000000</td>\n",
       "      <td>-0.031687</td>\n",
       "      <td>-0.013123</td>\n",
       "    </tr>\n",
       "    <tr>\n",
       "      <td>члены_семьи</td>\n",
       "      <td>-0.007315</td>\n",
       "      <td>-0.009064</td>\n",
       "      <td>-0.031687</td>\n",
       "      <td>1.000000</td>\n",
       "      <td>-0.039303</td>\n",
       "    </tr>\n",
       "    <tr>\n",
       "      <td>страховые_выплаты</td>\n",
       "      <td>0.011565</td>\n",
       "      <td>0.654964</td>\n",
       "      <td>-0.013123</td>\n",
       "      <td>-0.039303</td>\n",
       "      <td>1.000000</td>\n",
       "    </tr>\n",
       "  </tbody>\n",
       "</table>\n",
       "</div>"
      ],
      "text/plain": [
       "                        пол   возраст  зарплата  члены_семьи  \\\n",
       "пол                1.000000  0.001953  0.015456    -0.007315   \n",
       "возраст            0.001953  1.000000 -0.017386    -0.009064   \n",
       "зарплата           0.015456 -0.017386  1.000000    -0.031687   \n",
       "члены_семьи       -0.007315 -0.009064 -0.031687     1.000000   \n",
       "страховые_выплаты  0.011565  0.654964 -0.013123    -0.039303   \n",
       "\n",
       "                   страховые_выплаты  \n",
       "пол                         0.011565  \n",
       "возраст                     0.654964  \n",
       "зарплата                   -0.013123  \n",
       "члены_семьи                -0.039303  \n",
       "страховые_выплаты           1.000000  "
      ]
     },
     "execution_count": 7,
     "metadata": {},
     "output_type": "execute_result"
    }
   ],
   "source": [
    "insurance.corr()"
   ]
  },
  {
   "cell_type": "code",
   "execution_count": 8,
   "metadata": {},
   "outputs": [
    {
     "data": {
      "text/plain": [
       "возраст\n",
       "18.0    0.000000\n",
       "19.0    0.000000\n",
       "20.0    0.000000\n",
       "21.0    0.000000\n",
       "22.0    0.000000\n",
       "23.0    0.000000\n",
       "24.0    0.000000\n",
       "25.0    0.000000\n",
       "26.0    0.000000\n",
       "27.0    0.000000\n",
       "28.0    0.000000\n",
       "29.0    0.000000\n",
       "30.0    0.000000\n",
       "31.0    0.000000\n",
       "32.0    0.000000\n",
       "33.0    0.000000\n",
       "34.0    0.000000\n",
       "35.0    0.000000\n",
       "36.0    0.000000\n",
       "37.0    0.000000\n",
       "38.0    0.000000\n",
       "39.0    0.000000\n",
       "40.0    0.000000\n",
       "41.0    0.000000\n",
       "42.0    0.602151\n",
       "43.0    1.000000\n",
       "44.0    1.000000\n",
       "45.0    1.000000\n",
       "46.0    1.000000\n",
       "47.0    1.000000\n",
       "48.0    1.000000\n",
       "49.0    1.729730\n",
       "50.0    2.000000\n",
       "51.0    2.000000\n",
       "52.0    2.000000\n",
       "53.0    2.000000\n",
       "54.0    2.000000\n",
       "55.0    3.000000\n",
       "56.0    3.000000\n",
       "57.0    3.000000\n",
       "58.0    3.000000\n",
       "59.0    4.000000\n",
       "60.0    4.000000\n",
       "61.0    4.000000\n",
       "62.0    4.000000\n",
       "65.0    5.000000\n",
       "Name: страховые_выплаты, dtype: float64"
      ]
     },
     "execution_count": 8,
     "metadata": {},
     "output_type": "execute_result"
    }
   ],
   "source": [
    "insurance.groupby('возраст')['страховые_выплаты'].mean()"
   ]
  },
  {
   "cell_type": "markdown",
   "metadata": {},
   "source": [
    "Прослеживается корреляция между целевым признаком и возрастом.Выплаты начинаются с 42 лет и в среднем увеличиваются с возрастом.  Видимо, это медицинская страховка. Остальные признаки друг от друга приктически независимы.  \n",
    "Посмотрим на распределение по возрасту."
   ]
  },
  {
   "cell_type": "code",
   "execution_count": 9,
   "metadata": {},
   "outputs": [
    {
     "data": {
      "image/png": "[encoded data removed]",
      "text/plain": [
       "<Figure size 1080x360 with 2 Axes>"
      ]
     },
     "metadata": {
      "needs_background": "light"
     },
     "output_type": "display_data"
    }
   ],
   "source": [
    "plt.rcParams['figure.figsize'] = [15, 5]\n",
    "ax = plt.subplot(121)\n",
    "ax.set_xlabel('возраст (лет)')\n",
    "ax.set_ylabel('кол-во чел.')\n",
    "insurance['возраст'].hist(bins=int(insurance['возраст'].max()-insurance['возраст'].min()));\n",
    "\n",
    "ax = plt.subplot(122)\n",
    "ax.set_ylabel('лет')\n",
    "pd.DataFrame(insurance['возраст']).boxplot();"
   ]
  },
  {
   "cell_type": "markdown",
   "metadata": {},
   "source": [
    "Похоже на распределение Пуассона. Возраст старше 55 лет можно отнести к выбросам.  \n",
    "Что с зарплатой?"
   ]
  },
  {
   "cell_type": "code",
   "execution_count": 10,
   "metadata": {},
   "outputs": [
    {
     "data": {
      "image/png": "[encoded data removed]",
      "text/plain": [
       "<Figure size 1080x360 with 2 Axes>"
      ]
     },
     "metadata": {
      "needs_background": "light"
     },
     "output_type": "display_data"
    }
   ],
   "source": [
    "ax = plt.subplot(121)\n",
    "ax.set_xlabel('зарплата (руб)')\n",
    "ax.set_ylabel('кол-во чел.')\n",
    "insurance['зарплата'].hist(bins=50);\n",
    "\n",
    "ax = plt.subplot(122)\n",
    "ax.set_ylabel('руб.')\n",
    "pd.DataFrame(insurance['зарплата']).boxplot();"
   ]
  },
  {
   "cell_type": "markdown",
   "metadata": {},
   "source": [
    "Практически нормальное распределение. Выбросы - зарплата меньше 15000 и больше 65000.  \n",
    "Теперь размер семьи."
   ]
  },
  {
   "cell_type": "code",
   "execution_count": 11,
   "metadata": {},
   "outputs": [
    {
     "data": {
      "image/png": "[encoded data removed]",
      "text/plain": [
       "<Figure size 1080x360 with 2 Axes>"
      ]
     },
     "metadata": {
      "needs_background": "light"
     },
     "output_type": "display_data"
    }
   ],
   "source": [
    "ax = plt.subplot(121)\n",
    "ax.set_xlabel('человек в семье')\n",
    "ax.set_ylabel('кол-во семей')\n",
    "insurance['члены_семьи'].hist(bins=7);\n",
    "\n",
    "ax = plt.subplot(122)\n",
    "ax.set_ylabel('руб.')\n",
    "pd.DataFrame(insurance['члены_семьи']).boxplot();"
   ]
  },
  {
   "cell_type": "markdown",
   "metadata": {},
   "source": [
    "Удаляем выбросы."
   ]
  },
  {
   "cell_type": "code",
   "execution_count": 12,
   "metadata": {},
   "outputs": [
    {
     "name": "stdout",
     "output_type": "stream",
     "text": [
      "<class 'pandas.core.frame.DataFrame'>\n",
      "Int64Index: 4754 entries, 0 to 4999\n",
      "Data columns (total 5 columns):\n",
      "пол                  4754 non-null int64\n",
      "возраст              4754 non-null float64\n",
      "зарплата             4754 non-null float64\n",
      "члены_семьи          4754 non-null int64\n",
      "страховые_выплаты    4754 non-null int64\n",
      "dtypes: float64(2), int64(3)\n",
      "memory usage: 222.8 KB\n"
     ]
    }
   ],
   "source": [
    "insurance = insurance.query('возраст<55  and 15000<зарплата<65000 and члены_семьи<=5')\n",
    "insurance.info()"
   ]
  },
  {
   "cell_type": "code",
   "execution_count": 13,
   "metadata": {},
   "outputs": [
    {
     "data": {
      "text/plain": [
       "0    2389\n",
       "1    2365\n",
       "Name: пол, dtype: int64"
      ]
     },
     "execution_count": 13,
     "metadata": {},
     "output_type": "execute_result"
    }
   ],
   "source": [
    "insurance['пол'].value_counts()"
   ]
  },
  {
   "cell_type": "markdown",
   "metadata": {},
   "source": [
    "Мужчин и женщин примерно поровну.  \n",
    "Выделим целевой признак и посмотрим на его распредление. Разделим выборку на тренировочную и тестовую."
   ]
  },
  {
   "cell_type": "code",
   "execution_count": 14,
   "metadata": {},
   "outputs": [
    {
     "data": {
      "text/plain": [
       "0    4225\n",
       "1     416\n",
       "2     113\n",
       "Name: страховые_выплаты, dtype: int64"
      ]
     },
     "execution_count": 14,
     "metadata": {},
     "output_type": "execute_result"
    }
   ],
   "source": [
    "features = insurance.drop('страховые_выплаты', axis=1)\n",
    "target = insurance['страховые_выплаты']\n",
    "\n",
    "features_train, features_test, target_train, target_test = train_test_split(\n",
    "    features, target, test_size=0.25, random_state=12345)\n",
    "\n",
    "target.value_counts()"
   ]
  },
  {
   "cell_type": "markdown",
   "metadata": {},
   "source": [
    "## 2. Умножение матриц"
   ]
  },
  {
   "cell_type": "markdown",
   "metadata": {},
   "source": [
    "**Вопрос:** Признаки умножают на обратимую матрицу. Изменится ли качество линейной регрессии? (Её можно обучить заново.)"
   ]
  },
  {
   "cell_type": "markdown",
   "metadata": {},
   "source": [
    "**Ответ:** При умножении признаков на обратимую матрицу качество линейной регрессии изменится. По сути дела модель не сможет предсказывать.\n",
    "\n",
    "**Обоснование:** При умножении обратимой матрицы $A(nхn)$ на вектор признака $b(n)$ каждое полученное значение $c(i)$ нового вектора признака зависит от всех значений признака для всех событий: \n",
    "  \n",
    "$$\n",
    "c(i)=a(i,1)*b(1)+a(i,2)*b(2)...a(i,n)*b(n)\n",
    "$$  \n",
    "То есть в нашем случае в зашифрованных данных на каждого клиента перемешаны данные всех остальных клиентов. Конечно, при таких обстоятельствах задача машинного обучения нерешаема."
   ]
  },
  {
   "cell_type": "markdown",
   "metadata": {},
   "source": [
    "## 3. Алгоритм преобразования"
   ]
  },
  {
   "cell_type": "markdown",
   "metadata": {},
   "source": [
    "Вместо умножения случайно полученной обратимой матрицы на признаки умножим её на события. При этом в каждое событие останется уникальным, т.к при преобразовании будут использованы только значения, присущие этому событию (в данном случае - клиенту банка). Матрица - ключ шифрования - должна быть обратимой для возможности обратного преобразования, т.е для восстановления исходных данных из зашифрованных.  \n",
    "Итак, алгоритм действий:  \n",
    "  \n",
    "1. Генерируем случайную квадратную матрицу-ключ размерностью в кол-во признаков. Проверяем на обратимость.\n",
    "2. Транспонируем исходную матрицу признаков.  \n",
    "3. Умножаем полученные столбцы (бывшие строки) на матрицу-ключ.  \n",
    "4. Транспонируем полученную матрицу обратно, присваиваем столбцам старые названия.  \n",
    "  \n",
    "Должна получиться матрица прежней размерности, но с непонятными значениями. По идее, обучив модель на преобразованных таким образом данных, мы должны получить результат, схожий с результатом, полученным при обучении на оригинальных данных, т.к. уникальность признаков для каждого события (клиента) сохраняется.\n"
   ]
  },
  {
   "cell_type": "markdown",
   "metadata": {},
   "source": [
    "## 4. Проверка алгоритма"
   ]
  },
  {
   "cell_type": "markdown",
   "metadata": {},
   "source": [
    "Проверим нашу теорию.  \n",
    "Cгенерируем случайную квадратную матрицу  𝑃  размерностью в кол-во признаков (столбцов) и проверим её на обратимость, умножив на обратную. Должна получиться единичная матрица."
   ]
  },
  {
   "cell_type": "code",
   "execution_count": 15,
   "metadata": {},
   "outputs": [
    {
     "data": {
      "text/plain": [
       "array([[ 1.00000000e+00, -8.36861785e-17,  8.35264509e-17,\n",
       "        -5.83452903e-17],\n",
       "       [-1.12912000e-16,  1.00000000e+00, -2.67369175e-16,\n",
       "        -1.42762012e-17],\n",
       "       [ 1.54362129e-16,  9.18919475e-17,  1.00000000e+00,\n",
       "         3.95103934e-17],\n",
       "       [ 1.59978772e-16, -2.20455995e-17, -2.49269355e-17,\n",
       "         1.00000000e+00]])"
      ]
     },
     "execution_count": 15,
     "metadata": {},
     "output_type": "execute_result"
    }
   ],
   "source": [
    "P = np.random.normal(size=(features.shape[1],features.shape[1]))\n",
    "P.dot(np.linalg.inv(P))"
   ]
  },
  {
   "cell_type": "markdown",
   "metadata": {},
   "source": [
    "Готово.  \n",
    "Теперь напишем функцию, которая принимает на вход исходный датасет с признаками и матрицу-ключ, <u>ТРАНСПОНИРУЕТ ДАТАСЕТ</u>, умножает полученные столбцы (<u>БЫВШИЕ СТРОКИ</u>) на ключ, ТРАНСПОНИРУЕТ МАТРИЦУ ОБРАТНО и присваивает новым столбцам старые названия."
   ]
  },
  {
   "cell_type": "code",
   "execution_count": 16,
   "metadata": {},
   "outputs": [],
   "source": [
    "def cipher(features,key):\n",
    "    \n",
    "    features_T = features.T\n",
    "    \n",
    "    new_features = pd.DataFrame()\n",
    "    for column in features_T.columns:\n",
    "        new_features[column] = features_T[column].dot(key)\n",
    "        \n",
    "    new_features = new_features.T\n",
    "    new_features.columns = features.columns\n",
    "    \n",
    "    return new_features"
   ]
  },
  {
   "cell_type": "code",
   "execution_count": 17,
   "metadata": {},
   "outputs": [
    {
     "data": {
      "text/plain": [
       "пол                0.0\n",
       "возраст           46.0\n",
       "зарплата       38000.0\n",
       "члены_семьи        1.0\n",
       "Name: 1, dtype: float64"
      ]
     },
     "execution_count": 17,
     "metadata": {},
     "output_type": "execute_result"
    }
   ],
   "source": [
    "features.loc[1, :]"
   ]
  },
  {
   "cell_type": "markdown",
   "metadata": {},
   "source": [
    "Проверим качество модели линейной регрессии."
   ]
  },
  {
   "cell_type": "code",
   "execution_count": 18,
   "metadata": {},
   "outputs": [
    {
     "name": "stdout",
     "output_type": "stream",
     "text": [
      "До шифрования:\n",
      "Трениров. R2 = 0.416381137245184\n",
      "Тестовая  R2 = 0.40468227398383005\n"
     ]
    }
   ],
   "source": [
    "model = LinearRegression()\n",
    "model.fit(features_train, target_train)\n",
    "pred_train = model.predict(features_train)\n",
    "pred_test = model.predict(features_test)\n",
    "print('До шифрования:')\n",
    "print(\"Трениров. R2 =\", r2_score(target_train, pred_train))\n",
    "print(\"Тестовая  R2 =\", r2_score(target_test, pred_test))\n"
   ]
  },
  {
   "cell_type": "markdown",
   "metadata": {},
   "source": [
    "Преобразуем наши признаки."
   ]
  },
  {
   "cell_type": "code",
   "execution_count": 19,
   "metadata": {},
   "outputs": [
    {
     "data": {
      "text/html": [
       "<div>\n",
       "<style scoped>\n",
       "    .dataframe tbody tr th:only-of-type {\n",
       "        vertical-align: middle;\n",
       "    }\n",
       "\n",
       "    .dataframe tbody tr th {\n",
       "        vertical-align: top;\n",
       "    }\n",
       "\n",
       "    .dataframe thead th {\n",
       "        text-align: right;\n",
       "    }\n",
       "</style>\n",
       "<table border=\"1\" class=\"dataframe\">\n",
       "  <thead>\n",
       "    <tr style=\"text-align: right;\">\n",
       "      <th></th>\n",
       "      <th>пол</th>\n",
       "      <th>возраст</th>\n",
       "      <th>зарплата</th>\n",
       "      <th>члены_семьи</th>\n",
       "    </tr>\n",
       "  </thead>\n",
       "  <tbody>\n",
       "    <tr>\n",
       "      <td>749</td>\n",
       "      <td>-10336.801196</td>\n",
       "      <td>-8427.484590</td>\n",
       "      <td>-19191.137959</td>\n",
       "      <td>-85854.753309</td>\n",
       "    </tr>\n",
       "    <tr>\n",
       "      <td>331</td>\n",
       "      <td>-9358.087408</td>\n",
       "      <td>-7640.745391</td>\n",
       "      <td>-17387.615509</td>\n",
       "      <td>-77844.045206</td>\n",
       "    </tr>\n",
       "    <tr>\n",
       "      <td>2550</td>\n",
       "      <td>-6362.948116</td>\n",
       "      <td>-5204.571033</td>\n",
       "      <td>-11835.287186</td>\n",
       "      <td>-53042.943292</td>\n",
       "    </tr>\n",
       "    <tr>\n",
       "      <td>4422</td>\n",
       "      <td>-5539.351582</td>\n",
       "      <td>-4528.511933</td>\n",
       "      <td>-10304.104962</td>\n",
       "      <td>-46176.994145</td>\n",
       "    </tr>\n",
       "    <tr>\n",
       "      <td>1358</td>\n",
       "      <td>-9846.179313</td>\n",
       "      <td>-8033.202474</td>\n",
       "      <td>-18287.820794</td>\n",
       "      <td>-81848.983126</td>\n",
       "    </tr>\n",
       "  </tbody>\n",
       "</table>\n",
       "</div>"
      ],
      "text/plain": [
       "               пол      возраст      зарплата   члены_семьи\n",
       "749  -10336.801196 -8427.484590 -19191.137959 -85854.753309\n",
       "331   -9358.087408 -7640.745391 -17387.615509 -77844.045206\n",
       "2550  -6362.948116 -5204.571033 -11835.287186 -53042.943292\n",
       "4422  -5539.351582 -4528.511933 -10304.104962 -46176.994145\n",
       "1358  -9846.179313 -8033.202474 -18287.820794 -81848.983126"
      ]
     },
     "execution_count": 19,
     "metadata": {},
     "output_type": "execute_result"
    }
   ],
   "source": [
    "transform_features_train = cipher(features_train, P)\n",
    "transform_features_test = cipher(features_test, P)\n",
    "transform_features_train.head()"
   ]
  },
  {
   "cell_type": "markdown",
   "metadata": {},
   "source": [
    "Как видим, признаки вполне себе зашифрованы. Теперь проверим качество модели на преобразованных данных."
   ]
  },
  {
   "cell_type": "code",
   "execution_count": 20,
   "metadata": {},
   "outputs": [
    {
     "name": "stdout",
     "output_type": "stream",
     "text": [
      "После шифрования:\n",
      "Трениров. R2 = 0.41638113724518233\n",
      "Тестовая  R2 = 0.404682273983869\n"
     ]
    }
   ],
   "source": [
    "model.fit(transform_features_train, target_train)\n",
    "pred_train = model.predict(transform_features_train)\n",
    "pred_test = model.predict(transform_features_test)\n",
    "print('После шифрования:')\n",
    "print(\"Трениров. R2 =\", r2_score(target_train, pred_train))\n",
    "print(\"Тестовая  R2 =\", r2_score(target_test, pred_test))"
   ]
  },
  {
   "cell_type": "markdown",
   "metadata": {},
   "source": [
    "Значения метрик до и после шифрования совпадают до 14 знака после запятой, задача решена.  \n",
    "Настало время обратного преобразования - восстановления исходных данных с помощью ключа. Для восстановления проделаем все те же операции, но уже между измененными данными и матрицей, обратной ключу."
   ]
  },
  {
   "cell_type": "code",
   "execution_count": 21,
   "metadata": {},
   "outputs": [
    {
     "data": {
      "text/html": [
       "<div>\n",
       "<style scoped>\n",
       "    .dataframe tbody tr th:only-of-type {\n",
       "        vertical-align: middle;\n",
       "    }\n",
       "\n",
       "    .dataframe tbody tr th {\n",
       "        vertical-align: top;\n",
       "    }\n",
       "\n",
       "    .dataframe thead th {\n",
       "        text-align: right;\n",
       "    }\n",
       "</style>\n",
       "<table border=\"1\" class=\"dataframe\">\n",
       "  <thead>\n",
       "    <tr style=\"text-align: right;\">\n",
       "      <th></th>\n",
       "      <th>пол</th>\n",
       "      <th>возраст</th>\n",
       "      <th>зарплата</th>\n",
       "      <th>члены_семьи</th>\n",
       "    </tr>\n",
       "  </thead>\n",
       "  <tbody>\n",
       "    <tr>\n",
       "      <td>0</td>\n",
       "      <td>1</td>\n",
       "      <td>41.0</td>\n",
       "      <td>49600.0</td>\n",
       "      <td>1</td>\n",
       "    </tr>\n",
       "    <tr>\n",
       "      <td>1</td>\n",
       "      <td>0</td>\n",
       "      <td>46.0</td>\n",
       "      <td>38000.0</td>\n",
       "      <td>1</td>\n",
       "    </tr>\n",
       "    <tr>\n",
       "      <td>2</td>\n",
       "      <td>0</td>\n",
       "      <td>29.0</td>\n",
       "      <td>21000.0</td>\n",
       "      <td>0</td>\n",
       "    </tr>\n",
       "    <tr>\n",
       "      <td>3</td>\n",
       "      <td>0</td>\n",
       "      <td>21.0</td>\n",
       "      <td>41700.0</td>\n",
       "      <td>2</td>\n",
       "    </tr>\n",
       "    <tr>\n",
       "      <td>4</td>\n",
       "      <td>1</td>\n",
       "      <td>28.0</td>\n",
       "      <td>26100.0</td>\n",
       "      <td>0</td>\n",
       "    </tr>\n",
       "    <tr>\n",
       "      <td>5</td>\n",
       "      <td>1</td>\n",
       "      <td>43.0</td>\n",
       "      <td>41000.0</td>\n",
       "      <td>2</td>\n",
       "    </tr>\n",
       "    <tr>\n",
       "      <td>6</td>\n",
       "      <td>1</td>\n",
       "      <td>39.0</td>\n",
       "      <td>39700.0</td>\n",
       "      <td>2</td>\n",
       "    </tr>\n",
       "    <tr>\n",
       "      <td>7</td>\n",
       "      <td>1</td>\n",
       "      <td>25.0</td>\n",
       "      <td>38600.0</td>\n",
       "      <td>4</td>\n",
       "    </tr>\n",
       "    <tr>\n",
       "      <td>8</td>\n",
       "      <td>1</td>\n",
       "      <td>36.0</td>\n",
       "      <td>49700.0</td>\n",
       "      <td>1</td>\n",
       "    </tr>\n",
       "    <tr>\n",
       "      <td>9</td>\n",
       "      <td>1</td>\n",
       "      <td>32.0</td>\n",
       "      <td>51700.0</td>\n",
       "      <td>1</td>\n",
       "    </tr>\n",
       "  </tbody>\n",
       "</table>\n",
       "</div>"
      ],
      "text/plain": [
       "   пол  возраст  зарплата  члены_семьи\n",
       "0    1     41.0   49600.0            1\n",
       "1    0     46.0   38000.0            1\n",
       "2    0     29.0   21000.0            0\n",
       "3    0     21.0   41700.0            2\n",
       "4    1     28.0   26100.0            0\n",
       "5    1     43.0   41000.0            2\n",
       "6    1     39.0   39700.0            2\n",
       "7    1     25.0   38600.0            4\n",
       "8    1     36.0   49700.0            1\n",
       "9    1     32.0   51700.0            1"
      ]
     },
     "execution_count": 21,
     "metadata": {},
     "output_type": "execute_result"
    }
   ],
   "source": [
    "features.head(10)"
   ]
  },
  {
   "cell_type": "code",
   "execution_count": 22,
   "metadata": {},
   "outputs": [
    {
     "data": {
      "text/html": [
       "<div>\n",
       "<style scoped>\n",
       "    .dataframe tbody tr th:only-of-type {\n",
       "        vertical-align: middle;\n",
       "    }\n",
       "\n",
       "    .dataframe tbody tr th {\n",
       "        vertical-align: top;\n",
       "    }\n",
       "\n",
       "    .dataframe thead th {\n",
       "        text-align: right;\n",
       "    }\n",
       "</style>\n",
       "<table border=\"1\" class=\"dataframe\">\n",
       "  <thead>\n",
       "    <tr style=\"text-align: right;\">\n",
       "      <th></th>\n",
       "      <th>пол</th>\n",
       "      <th>возраст</th>\n",
       "      <th>зарплата</th>\n",
       "      <th>члены_семьи</th>\n",
       "    </tr>\n",
       "  </thead>\n",
       "  <tbody>\n",
       "    <tr>\n",
       "      <td>0</td>\n",
       "      <td>-11374.649704</td>\n",
       "      <td>-9287.755974</td>\n",
       "      <td>-21135.831280</td>\n",
       "      <td>-94633.684087</td>\n",
       "    </tr>\n",
       "    <tr>\n",
       "      <td>1</td>\n",
       "      <td>-8699.795884</td>\n",
       "      <td>-7113.187151</td>\n",
       "      <td>-16180.874943</td>\n",
       "      <td>-72507.113219</td>\n",
       "    </tr>\n",
       "    <tr>\n",
       "      <td>2</td>\n",
       "      <td>-4804.433124</td>\n",
       "      <td>-3931.043596</td>\n",
       "      <td>-8939.068188</td>\n",
       "      <td>-40070.201029</td>\n",
       "    </tr>\n",
       "    <tr>\n",
       "      <td>3</td>\n",
       "      <td>-9575.418654</td>\n",
       "      <td>-7808.863152</td>\n",
       "      <td>-17780.963682</td>\n",
       "      <td>-79559.793621</td>\n",
       "    </tr>\n",
       "    <tr>\n",
       "      <td>4</td>\n",
       "      <td>-5979.534903</td>\n",
       "      <td>-4887.107457</td>\n",
       "      <td>-11116.358026</td>\n",
       "      <td>-49797.625385</td>\n",
       "    </tr>\n",
       "    <tr>\n",
       "      <td>5</td>\n",
       "      <td>-9393.314469</td>\n",
       "      <td>-7675.020133</td>\n",
       "      <td>-17463.530171</td>\n",
       "      <td>-78228.657176</td>\n",
       "    </tr>\n",
       "    <tr>\n",
       "      <td>6</td>\n",
       "      <td>-9098.049170</td>\n",
       "      <td>-7431.967728</td>\n",
       "      <td>-16911.996342</td>\n",
       "      <td>-75747.520337</td>\n",
       "    </tr>\n",
       "    <tr>\n",
       "      <td>7</td>\n",
       "      <td>-8858.047753</td>\n",
       "      <td>-7225.732556</td>\n",
       "      <td>-16454.203074</td>\n",
       "      <td>-73646.994272</td>\n",
       "    </tr>\n",
       "    <tr>\n",
       "      <td>8</td>\n",
       "      <td>-11402.543069</td>\n",
       "      <td>-9307.169500</td>\n",
       "      <td>-21182.679451</td>\n",
       "      <td>-94823.094933</td>\n",
       "    </tr>\n",
       "    <tr>\n",
       "      <td>9</td>\n",
       "      <td>-11866.708183</td>\n",
       "      <td>-9682.468288</td>\n",
       "      <td>-22039.653453</td>\n",
       "      <td>-98637.462588</td>\n",
       "    </tr>\n",
       "  </tbody>\n",
       "</table>\n",
       "</div>"
      ],
      "text/plain": [
       "            пол      возраст      зарплата   члены_семьи\n",
       "0 -11374.649704 -9287.755974 -21135.831280 -94633.684087\n",
       "1  -8699.795884 -7113.187151 -16180.874943 -72507.113219\n",
       "2  -4804.433124 -3931.043596  -8939.068188 -40070.201029\n",
       "3  -9575.418654 -7808.863152 -17780.963682 -79559.793621\n",
       "4  -5979.534903 -4887.107457 -11116.358026 -49797.625385\n",
       "5  -9393.314469 -7675.020133 -17463.530171 -78228.657176\n",
       "6  -9098.049170 -7431.967728 -16911.996342 -75747.520337\n",
       "7  -8858.047753 -7225.732556 -16454.203074 -73646.994272\n",
       "8 -11402.543069 -9307.169500 -21182.679451 -94823.094933\n",
       "9 -11866.708183 -9682.468288 -22039.653453 -98637.462588"
      ]
     },
     "execution_count": 22,
     "metadata": {},
     "output_type": "execute_result"
    }
   ],
   "source": [
    "crypt = cipher(features,P)\n",
    "crypt.head(10)"
   ]
  },
  {
   "cell_type": "code",
   "execution_count": 23,
   "metadata": {},
   "outputs": [
    {
     "data": {
      "text/html": [
       "<div>\n",
       "<style scoped>\n",
       "    .dataframe tbody tr th:only-of-type {\n",
       "        vertical-align: middle;\n",
       "    }\n",
       "\n",
       "    .dataframe tbody tr th {\n",
       "        vertical-align: top;\n",
       "    }\n",
       "\n",
       "    .dataframe thead th {\n",
       "        text-align: right;\n",
       "    }\n",
       "</style>\n",
       "<table border=\"1\" class=\"dataframe\">\n",
       "  <thead>\n",
       "    <tr style=\"text-align: right;\">\n",
       "      <th></th>\n",
       "      <th>пол</th>\n",
       "      <th>возраст</th>\n",
       "      <th>зарплата</th>\n",
       "      <th>члены_семьи</th>\n",
       "    </tr>\n",
       "  </thead>\n",
       "  <tbody>\n",
       "    <tr>\n",
       "      <td>0</td>\n",
       "      <td>1.0</td>\n",
       "      <td>41.0</td>\n",
       "      <td>49600.0</td>\n",
       "      <td>1.0</td>\n",
       "    </tr>\n",
       "    <tr>\n",
       "      <td>1</td>\n",
       "      <td>0.0</td>\n",
       "      <td>46.0</td>\n",
       "      <td>38000.0</td>\n",
       "      <td>1.0</td>\n",
       "    </tr>\n",
       "    <tr>\n",
       "      <td>2</td>\n",
       "      <td>0.0</td>\n",
       "      <td>29.0</td>\n",
       "      <td>21000.0</td>\n",
       "      <td>0.0</td>\n",
       "    </tr>\n",
       "    <tr>\n",
       "      <td>3</td>\n",
       "      <td>0.0</td>\n",
       "      <td>21.0</td>\n",
       "      <td>41700.0</td>\n",
       "      <td>2.0</td>\n",
       "    </tr>\n",
       "    <tr>\n",
       "      <td>4</td>\n",
       "      <td>1.0</td>\n",
       "      <td>28.0</td>\n",
       "      <td>26100.0</td>\n",
       "      <td>0.0</td>\n",
       "    </tr>\n",
       "    <tr>\n",
       "      <td>5</td>\n",
       "      <td>1.0</td>\n",
       "      <td>43.0</td>\n",
       "      <td>41000.0</td>\n",
       "      <td>2.0</td>\n",
       "    </tr>\n",
       "    <tr>\n",
       "      <td>6</td>\n",
       "      <td>1.0</td>\n",
       "      <td>39.0</td>\n",
       "      <td>39700.0</td>\n",
       "      <td>2.0</td>\n",
       "    </tr>\n",
       "    <tr>\n",
       "      <td>7</td>\n",
       "      <td>1.0</td>\n",
       "      <td>25.0</td>\n",
       "      <td>38600.0</td>\n",
       "      <td>4.0</td>\n",
       "    </tr>\n",
       "    <tr>\n",
       "      <td>8</td>\n",
       "      <td>1.0</td>\n",
       "      <td>36.0</td>\n",
       "      <td>49700.0</td>\n",
       "      <td>1.0</td>\n",
       "    </tr>\n",
       "    <tr>\n",
       "      <td>9</td>\n",
       "      <td>1.0</td>\n",
       "      <td>32.0</td>\n",
       "      <td>51700.0</td>\n",
       "      <td>1.0</td>\n",
       "    </tr>\n",
       "  </tbody>\n",
       "</table>\n",
       "</div>"
      ],
      "text/plain": [
       "   пол  возраст  зарплата  члены_семьи\n",
       "0  1.0     41.0   49600.0          1.0\n",
       "1  0.0     46.0   38000.0          1.0\n",
       "2  0.0     29.0   21000.0          0.0\n",
       "3  0.0     21.0   41700.0          2.0\n",
       "4  1.0     28.0   26100.0          0.0\n",
       "5  1.0     43.0   41000.0          2.0\n",
       "6  1.0     39.0   39700.0          2.0\n",
       "7  1.0     25.0   38600.0          4.0\n",
       "8  1.0     36.0   49700.0          1.0\n",
       "9  1.0     32.0   51700.0          1.0"
      ]
     },
     "execution_count": 23,
     "metadata": {},
     "output_type": "execute_result"
    }
   ],
   "source": [
    "round(cipher(crypt, np.linalg.inv(P))).head(10)"
   ]
  },
  {
   "cell_type": "markdown",
   "metadata": {},
   "source": [
    "Данные восстановлены, алгоритм работает."
   ]
  },
  {
   "cell_type": "markdown",
   "metadata": {},
   "source": [
    "##### В функции chifer() матрица сначала транспонируется (строки становятся столбцами, а столбцы - строками). Поэтому мы умножаем матрицу-ключ на вектора, которые изначально были строками."
   ]
  },
  {
   "cell_type": "markdown",
   "metadata": {},
   "source": [
    "ПРОВЕРИМ УТВЕРЖДЕНИЕ, ЧТО УМНОЖЕНИЕ ПРИЗНАКОВ НА ОБРАТИМУЮ МАТРИЦУ УХУДШАЕТ КАЧЕСТВО МОДЕЛИ.  \n",
    "Генерируем две новые матрицы P1 и P2, но размерностью в кол-во СТРОК train и target, пишем ту же функцию, но БЕЗ ТРАНСПОНИРОВАНИЯ."
   ]
  },
  {
   "cell_type": "code",
   "execution_count": 24,
   "metadata": {},
   "outputs": [],
   "source": [
    "P1 = np.random.normal(size=(features_train.shape[0],features_train.shape[0]))\n",
    "P2 = np.random.normal(size=(features_test.shape[0],features_test.shape[0]))\n",
    "\n",
    "def cipher_1(features,key):\n",
    "    new_features = pd.DataFrame()\n",
    "    for column in features.columns:\n",
    "        new_features[column] = features[column].dot(key)\n",
    "    return new_features"
   ]
  },
  {
   "cell_type": "markdown",
   "metadata": {},
   "source": [
    "Преобразуем данные."
   ]
  },
  {
   "cell_type": "code",
   "execution_count": 25,
   "metadata": {},
   "outputs": [
    {
     "data": {
      "text/html": [
       "<div>\n",
       "<style scoped>\n",
       "    .dataframe tbody tr th:only-of-type {\n",
       "        vertical-align: middle;\n",
       "    }\n",
       "\n",
       "    .dataframe tbody tr th {\n",
       "        vertical-align: top;\n",
       "    }\n",
       "\n",
       "    .dataframe thead th {\n",
       "        text-align: right;\n",
       "    }\n",
       "</style>\n",
       "<table border=\"1\" class=\"dataframe\">\n",
       "  <thead>\n",
       "    <tr style=\"text-align: right;\">\n",
       "      <th></th>\n",
       "      <th>пол</th>\n",
       "      <th>возраст</th>\n",
       "      <th>зарплата</th>\n",
       "      <th>члены_семьи</th>\n",
       "    </tr>\n",
       "  </thead>\n",
       "  <tbody>\n",
       "    <tr>\n",
       "      <td>0</td>\n",
       "      <td>-3.655099</td>\n",
       "      <td>3501.724807</td>\n",
       "      <td>2.493868e+06</td>\n",
       "      <td>77.034056</td>\n",
       "    </tr>\n",
       "    <tr>\n",
       "      <td>1</td>\n",
       "      <td>3.583692</td>\n",
       "      <td>896.804743</td>\n",
       "      <td>9.158108e+03</td>\n",
       "      <td>3.162593</td>\n",
       "    </tr>\n",
       "    <tr>\n",
       "      <td>2</td>\n",
       "      <td>-4.801034</td>\n",
       "      <td>425.361718</td>\n",
       "      <td>-4.147689e+05</td>\n",
       "      <td>-21.350955</td>\n",
       "    </tr>\n",
       "    <tr>\n",
       "      <td>3</td>\n",
       "      <td>81.913345</td>\n",
       "      <td>2797.222381</td>\n",
       "      <td>3.577486e+06</td>\n",
       "      <td>18.971338</td>\n",
       "    </tr>\n",
       "    <tr>\n",
       "      <td>4</td>\n",
       "      <td>-49.716248</td>\n",
       "      <td>1541.063768</td>\n",
       "      <td>1.830206e+06</td>\n",
       "      <td>-2.019857</td>\n",
       "    </tr>\n",
       "  </tbody>\n",
       "</table>\n",
       "</div>"
      ],
      "text/plain": [
       "         пол      возраст      зарплата  члены_семьи\n",
       "0  -3.655099  3501.724807  2.493868e+06    77.034056\n",
       "1   3.583692   896.804743  9.158108e+03     3.162593\n",
       "2  -4.801034   425.361718 -4.147689e+05   -21.350955\n",
       "3  81.913345  2797.222381  3.577486e+06    18.971338\n",
       "4 -49.716248  1541.063768  1.830206e+06    -2.019857"
      ]
     },
     "execution_count": 25,
     "metadata": {},
     "output_type": "execute_result"
    }
   ],
   "source": [
    "transform_features_train = cipher_1(features_train, P1)\n",
    "transform_features_test = cipher_1(features_test, P2)\n",
    "transform_features_train.head()"
   ]
  },
  {
   "cell_type": "code",
   "execution_count": 26,
   "metadata": {},
   "outputs": [
    {
     "name": "stdout",
     "output_type": "stream",
     "text": [
      "После шифрования:\n",
      "Трениров. R2 = 0.002665364924450242\n",
      "Тестовая  R2 = -0.0015861139608654984\n"
     ]
    }
   ],
   "source": [
    "model.fit(transform_features_train, target_train)\n",
    "pred_train = model.predict(transform_features_train)\n",
    "pred_test = model.predict(transform_features_test)\n",
    "print('После шифрования:')\n",
    "print(\"Трениров. R2 =\", r2_score(target_train, pred_train))\n",
    "print(\"Тестовая  R2 =\", r2_score(target_test, pred_test))"
   ]
  },
  {
   "cell_type": "markdown",
   "metadata": {},
   "source": [
    "Как видим, качество модели заметно ухудшилось, что согласуется с нашим утверждением из п.2"
   ]
  }
 ],
 "metadata": {
  "kernelspec": {
   "display_name": "Python 3",
   "language": "python",
   "name": "python3"
  },
  "language_info": {
   "codemirror_mode": {
    "name": "ipython",
    "version": 3
   },
   "file_extension": ".py",
   "mimetype": "text/x-python",
   "name": "python",
   "nbconvert_exporter": "python",
   "pygments_lexer": "ipython3",
   "version": "3.7.6"
  }
 },
 "nbformat": 4,
 "nbformat_minor": 2
}
