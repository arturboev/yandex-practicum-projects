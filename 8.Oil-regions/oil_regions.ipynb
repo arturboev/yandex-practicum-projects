{
 "cells": [
  {
   "cell_type": "markdown",
   "metadata": {},
   "source": [
    "# Описание проекта"
   ]
  },
  {
   "cell_type": "markdown",
   "metadata": {},
   "source": [
    "Допустим, вы работаете в добывающей компании «ГлавРосГосНефть». Нужно решить, где бурить новую скважину.\n",
    "\n",
    "Вам предоставлены пробы нефти в трёх регионах: в каждом 10 000 месторождений, где измерили качество нефти и объём её запасов. Постройте модель машинного обучения, которая поможет определить регион, где добыча принесёт наибольшую прибыль. Проанализируйте возможную прибыль и риски техникой *Bootstrap.*\n",
    "\n",
    "Шаги для выбора локации:\n",
    "\n",
    "- В избранном регионе ищут месторождения, для каждого определяют значения признаков;\n",
    "- Строят модель и оценивают объём запасов;\n",
    "- Выбирают месторождения с самым высокими оценками значений. Количество месторождений зависит от бюджета компании и стоимости разработки одной скважины;\n",
    "- Прибыль равна суммарной прибыли отобранных месторождений."
   ]
  },
  {
   "cell_type": "markdown",
   "metadata": {},
   "source": [
    "# 1. Загрузка и подготовка данных"
   ]
  },
  {
   "cell_type": "markdown",
   "metadata": {},
   "source": [
    "Загрузим необходимые функции и библиотеки"
   ]
  },
  {
   "cell_type": "code",
   "execution_count": 29,
   "metadata": {},
   "outputs": [],
   "source": [
    "import pandas as pd\n",
    "from sklearn.model_selection import train_test_split\n",
    "from sklearn.linear_model import LinearRegression\n",
    "from sklearn.metrics import mean_squared_error\n",
    "from sklearn.metrics import  r2_score\n",
    "from sklearn.preprocessing import StandardScaler\n",
    "import numpy as np"
   ]
  },
  {
   "cell_type": "markdown",
   "metadata": {},
   "source": [
    "Прочтем данные."
   ]
  },
  {
   "cell_type": "code",
   "execution_count": 30,
   "metadata": {},
   "outputs": [
    {
     "data": {
      "text/html": [
       "<div>\n",
       "<style scoped>\n",
       "    .dataframe tbody tr th:only-of-type {\n",
       "        vertical-align: middle;\n",
       "    }\n",
       "\n",
       "    .dataframe tbody tr th {\n",
       "        vertical-align: top;\n",
       "    }\n",
       "\n",
       "    .dataframe thead th {\n",
       "        text-align: right;\n",
       "    }\n",
       "</style>\n",
       "<table border=\"1\" class=\"dataframe\">\n",
       "  <thead>\n",
       "    <tr style=\"text-align: right;\">\n",
       "      <th></th>\n",
       "      <th>id</th>\n",
       "      <th>f0</th>\n",
       "      <th>f1</th>\n",
       "      <th>f2</th>\n",
       "      <th>product</th>\n",
       "    </tr>\n",
       "  </thead>\n",
       "  <tbody>\n",
       "    <tr>\n",
       "      <td>0</td>\n",
       "      <td>kBEdx</td>\n",
       "      <td>-15.001348</td>\n",
       "      <td>-8.276000</td>\n",
       "      <td>-0.005876</td>\n",
       "      <td>3.179103</td>\n",
       "    </tr>\n",
       "    <tr>\n",
       "      <td>1</td>\n",
       "      <td>62mP7</td>\n",
       "      <td>14.272088</td>\n",
       "      <td>-3.475083</td>\n",
       "      <td>0.999183</td>\n",
       "      <td>26.953261</td>\n",
       "    </tr>\n",
       "    <tr>\n",
       "      <td>2</td>\n",
       "      <td>vyE1P</td>\n",
       "      <td>6.263187</td>\n",
       "      <td>-5.948386</td>\n",
       "      <td>5.001160</td>\n",
       "      <td>134.766305</td>\n",
       "    </tr>\n",
       "    <tr>\n",
       "      <td>3</td>\n",
       "      <td>KcrkZ</td>\n",
       "      <td>-13.081196</td>\n",
       "      <td>-11.506057</td>\n",
       "      <td>4.999415</td>\n",
       "      <td>137.945408</td>\n",
       "    </tr>\n",
       "    <tr>\n",
       "      <td>4</td>\n",
       "      <td>AHL4O</td>\n",
       "      <td>12.702195</td>\n",
       "      <td>-8.147433</td>\n",
       "      <td>5.004363</td>\n",
       "      <td>134.766305</td>\n",
       "    </tr>\n",
       "  </tbody>\n",
       "</table>\n",
       "</div>"
      ],
      "text/plain": [
       "      id         f0         f1        f2     product\n",
       "0  kBEdx -15.001348  -8.276000 -0.005876    3.179103\n",
       "1  62mP7  14.272088  -3.475083  0.999183   26.953261\n",
       "2  vyE1P   6.263187  -5.948386  5.001160  134.766305\n",
       "3  KcrkZ -13.081196 -11.506057  4.999415  137.945408\n",
       "4  AHL4O  12.702195  -8.147433  5.004363  134.766305"
      ]
     },
     "execution_count": 30,
     "metadata": {},
     "output_type": "execute_result"
    }
   ],
   "source": [
    "oil_0 = pd.read_csv('/datasets/geo_data_0.csv')\n",
    "oil_1 = pd.read_csv('/datasets/geo_data_1.csv')\n",
    "oil_2 = pd.read_csv('/datasets/geo_data_2.csv')\n",
    "oil_1.head()"
   ]
  },
  {
   "cell_type": "code",
   "execution_count": 31,
   "metadata": {},
   "outputs": [
    {
     "name": "stdout",
     "output_type": "stream",
     "text": [
      "<class 'pandas.core.frame.DataFrame'>\n",
      "RangeIndex: 100000 entries, 0 to 99999\n",
      "Data columns (total 5 columns):\n",
      "id         100000 non-null object\n",
      "f0         100000 non-null float64\n",
      "f1         100000 non-null float64\n",
      "f2         100000 non-null float64\n",
      "product    100000 non-null float64\n",
      "dtypes: float64(4), object(1)\n",
      "memory usage: 3.8+ MB\n",
      "\n",
      "<class 'pandas.core.frame.DataFrame'>\n",
      "RangeIndex: 100000 entries, 0 to 99999\n",
      "Data columns (total 5 columns):\n",
      "id         100000 non-null object\n",
      "f0         100000 non-null float64\n",
      "f1         100000 non-null float64\n",
      "f2         100000 non-null float64\n",
      "product    100000 non-null float64\n",
      "dtypes: float64(4), object(1)\n",
      "memory usage: 3.8+ MB\n",
      "\n",
      "<class 'pandas.core.frame.DataFrame'>\n",
      "RangeIndex: 100000 entries, 0 to 99999\n",
      "Data columns (total 5 columns):\n",
      "id         100000 non-null object\n",
      "f0         100000 non-null float64\n",
      "f1         100000 non-null float64\n",
      "f2         100000 non-null float64\n",
      "product    100000 non-null float64\n",
      "dtypes: float64(4), object(1)\n",
      "memory usage: 3.8+ MB\n"
     ]
    }
   ],
   "source": [
    "oil_0.info()\n",
    "print()\n",
    "oil_1.info()\n",
    "print()\n",
    "oil_2.info()"
   ]
  },
  {
   "cell_type": "markdown",
   "metadata": {},
   "source": [
    "Проверим на дубликаты."
   ]
  },
  {
   "cell_type": "code",
   "execution_count": 32,
   "metadata": {},
   "outputs": [
    {
     "name": "stdout",
     "output_type": "stream",
     "text": [
      "0\n",
      "0\n",
      "0\n"
     ]
    }
   ],
   "source": [
    "print(oil_0.duplicated().sum())\n",
    "print(oil_1.duplicated().sum())\n",
    "print(oil_2.duplicated().sum())"
   ]
  },
  {
   "cell_type": "markdown",
   "metadata": {},
   "source": [
    "Итак, product - целевой признак, id на него никак не влиет, для обучения модели он лишний."
   ]
  },
  {
   "cell_type": "code",
   "execution_count": 33,
   "metadata": {},
   "outputs": [],
   "source": [
    "oil_0 = oil_0.drop('id', axis=1)\n",
    "oil_1 = oil_1.drop('id', axis=1)\n",
    "oil_2 = oil_2.drop('id', axis=1)"
   ]
  },
  {
   "cell_type": "markdown",
   "metadata": {},
   "source": [
    "# 2. Обучение и проверка модели"
   ]
  },
  {
   "cell_type": "markdown",
   "metadata": {},
   "source": [
    "Напишем функцию: на вход она принимает датасет, делит выборку на обучающую и валидационную, обучает модель линейной регрессии, печатает среднее по предсказанию и RMSE и возвращает датасет из предсказаний и правильных ответов. (Можно еще отмасштабировать признаки, но в данном случае это лишнее, проверено)"
   ]
  },
  {
   "cell_type": "code",
   "execution_count": 34,
   "metadata": {},
   "outputs": [],
   "source": [
    "def reserve_rmse(data):\n",
    "    target = data['product']\n",
    "    features = data.drop('product', axis=1)\n",
    "    features_train, features_valid, target_train, target_valid = train_test_split(\n",
    "    features, target, test_size=0.25, random_state=12345)\n",
    "    \n",
    "#    numeric = ['f0', 'f1', 'f2']\n",
    "#    scaler = StandardScaler()\n",
    "#    scaler.fit(features_train[numeric])\n",
    "#    features_train[ numeric] = scaler.transform(features_train[numeric])\n",
    "#    features_valid[numeric] = scaler.transform(features_valid[numeric])\n",
    "            \n",
    "    model = LinearRegression()\n",
    "    model.fit(features_train, target_train)\n",
    "    predicted_valid = model.predict(features_valid)\n",
    "    rmse = mean_squared_error(target_valid, predicted_valid)**0.5\n",
    "    r2 = r2_score(target_valid, predicted_valid)\n",
    "        \n",
    "    print('Ср. предсказанный запас:',predicted_valid.mean())\n",
    "    print('RMSE:',rmse)\n",
    "    print('R2:', r2)\n",
    "    print()\n",
    "    \n",
    "    dt = pd.DataFrame()\n",
    "    dt['target'] = target_valid\n",
    "    dt['predict'] = predicted_valid\n",
    "\n",
    "    return dt"
   ]
  },
  {
   "cell_type": "code",
   "execution_count": 35,
   "metadata": {},
   "outputs": [
    {
     "name": "stdout",
     "output_type": "stream",
     "text": [
      "Ср. предсказанный запас: 92.59256778438038\n",
      "RMSE: 37.5794217150813\n",
      "R2: 0.27994321524487786\n",
      "\n",
      "Ср. предсказанный запас: 68.728546895446\n",
      "RMSE: 0.893099286775616\n",
      "R2: 0.9996233978805127\n",
      "\n",
      "Ср. предсказанный запас: 94.96504596800489\n",
      "RMSE: 40.02970873393434\n",
      "R2: 0.20524758386040443\n",
      "\n"
     ]
    }
   ],
   "source": [
    "table_0 = reserve_rmse(oil_0)\n",
    "table_1 = reserve_rmse(oil_1)\n",
    "table_2 = reserve_rmse(oil_2)"
   ]
  },
  {
   "cell_type": "markdown",
   "metadata": {},
   "source": [
    "По второму региону модель предсказывает прекрасно, почти идеально, в первом и третьем регионе - намного хуже. В чем дело?"
   ]
  },
  {
   "cell_type": "code",
   "execution_count": 36,
   "metadata": {},
   "outputs": [
    {
     "data": {
      "image/png": "[encoded data removed]",
      "text/plain": [
       "<Figure size 432x288 with 1 Axes>"
      ]
     },
     "metadata": {
      "needs_background": "light"
     },
     "output_type": "display_data"
    }
   ],
   "source": [
    "oil_0['product'].hist();"
   ]
  },
  {
   "cell_type": "code",
   "execution_count": 37,
   "metadata": {},
   "outputs": [
    {
     "data": {
      "image/png": "[encoded data removed]",
      "text/plain": [
       "<Figure size 432x288 with 1 Axes>"
      ]
     },
     "metadata": {
      "needs_background": "light"
     },
     "output_type": "display_data"
    }
   ],
   "source": [
    "oil_1['product'].hist();"
   ]
  },
  {
   "cell_type": "code",
   "execution_count": 38,
   "metadata": {},
   "outputs": [
    {
     "data": {
      "image/png": "[encoded data removed]",
      "text/plain": [
       "<Figure size 432x288 with 1 Axes>"
      ]
     },
     "metadata": {
      "needs_background": "light"
     },
     "output_type": "display_data"
    }
   ],
   "source": [
    "oil_2['product'].hist();"
   ]
  },
  {
   "cell_type": "markdown",
   "metadata": {},
   "source": [
    "Да, легко предсказывать, когда большинство значений находится примерно на одном уровне (только два выброса по краям). Первый же и третий регионы показывают нормальное распределение."
   ]
  },
  {
   "cell_type": "markdown",
   "metadata": {},
   "source": [
    "# 3. Подготовка к расчёту прибыли"
   ]
  },
  {
   "cell_type": "markdown",
   "metadata": {},
   "source": [
    "Бюджет - 10 млрд.руб.  \n",
    "Прибыль с единицы - 450 тыс.руб.  \n",
    "Скважин в регионе - 200 шт."
   ]
  },
  {
   "cell_type": "code",
   "execution_count": 39,
   "metadata": {},
   "outputs": [
    {
     "name": "stdout",
     "output_type": "stream",
     "text": [
      "111.11111111111111\n"
     ]
    }
   ],
   "source": [
    "Budget = 1e10\n",
    "Yeld = 4.5e5\n",
    "Quantity = 200\n",
    "sufficient = Budget / Yeld / Quantity\n",
    "print(sufficient)\n"
   ]
  },
  {
   "cell_type": "markdown",
   "metadata": {},
   "source": [
    "Не менее 111 тыс. баррелей должно быть в скважине для безубыточной разработки.   \n",
    "Средние запасы в скважинах по всем трем регионам (92, 68 и 94 тыс. баррелей) меньше порога безыбыточности при заданном бюджете."
   ]
  },
  {
   "cell_type": "markdown",
   "metadata": {},
   "source": [
    "# 4. Расчёт прибыли и рисков "
   ]
  },
  {
   "cell_type": "markdown",
   "metadata": {},
   "source": [
    "Напишем функцию, которая подсчитывает прибыль от заданного кол-ва лучших скважин."
   ]
  },
  {
   "cell_type": "code",
   "execution_count": 40,
   "metadata": {},
   "outputs": [],
   "source": [
    "def calc_profit(predict,target, count):\n",
    "    predict_sorted = predict.sort_values(ascending=False)\n",
    "    sum = target[predict_sorted.index][:count].sum()\n",
    "    revenue = sum * Yeld\n",
    "    profit = revenue - Budget\n",
    "    return profit"
   ]
  },
  {
   "cell_type": "markdown",
   "metadata": {},
   "source": [
    "Теперь дело за функцией, которая в цикле произвольно выбирает 500 скважин, считает прибыль двухсот лучших и записывает очередное значение в переменную, а затем вычисляет среднее по циклу, а также 2.5% и 97,5% квантиль распределения этой прибыли и риск убытков, как соотношение кол-ва отрицательных значений прибыли к общему кол-ву значений в Bootstrap."
   ]
  },
  {
   "cell_type": "code",
   "execution_count": 41,
   "metadata": {},
   "outputs": [],
   "source": [
    "def mean_interval(data):    \n",
    "    \n",
    "    state = np.random.RandomState(12345)\n",
    "    \n",
    "    values = []\n",
    "    for i in range(1000):\n",
    "        target_subsample = data['target'].sample(n=500, replace=True, random_state=state)\n",
    "        predict_subsample = data['predict'][target_subsample.index]\n",
    "\n",
    "        values.append(calc_profit(predict_subsample, target_subsample, Quantity))\n",
    "        \n",
    "    values = pd.Series(values)\n",
    "    lower = values.quantile(0.025)\n",
    "    upper = values.quantile(0.975)\n",
    "    mean = values.mean()\n",
    "    loss_risk = values[values<0].count() / len(values)\n",
    "                \n",
    "    print('Средняя прибыль: {0:,}'.format(int(mean)).replace(',', ' '))\n",
    "    print('2.5%-й квантиль: {0:,}'.format(int(lower)).replace(',', ' '))\n",
    "    print('97.5%-й квантиль: {0:,}'.format(int(upper)).replace(',', ' '))\n",
    "    print('Риск убытков:  {:.1%}'.format(loss_risk))\n",
    "      "
   ]
  },
  {
   "cell_type": "code",
   "execution_count": 42,
   "metadata": {},
   "outputs": [
    {
     "name": "stdout",
     "output_type": "stream",
     "text": [
      "Первый регион.\n",
      "Средняя прибыль: 425 938 526\n",
      "2.5%-й квантиль: -102 090 094\n",
      "97.5%-й квантиль: 947 976 353\n",
      "Риск убытков:  6.0%\n",
      "\n",
      "Второй регион.\n",
      "Средняя прибыль: 515 222 773\n",
      "2.5%-й квантиль: 68 873 225\n",
      "97.5%-й квантиль: 931 547 591\n",
      "Риск убытков:  1.0%\n",
      "\n",
      "Третий регион.\n",
      "Средняя прибыль: 435 008 362\n",
      "2.5%-й квантиль: -128 880 547\n",
      "97.5%-й квантиль: 969 706 954\n",
      "Риск убытков:  6.4%\n"
     ]
    }
   ],
   "source": [
    "print('Первый регион.')\n",
    "mean_interval(table_0)\n",
    "print()\n",
    "print('Второй регион.')\n",
    "mean_interval(table_1)\n",
    "print()\n",
    "print('Третий регион.')\n",
    "mean_interval(table_2)"
   ]
  },
  {
   "cell_type": "markdown",
   "metadata": {},
   "source": [
    "Итак, наилучшие показатели у второго региона: здесь наивысшая средняя прибыль, безубыточный доверительный интервал и наименьший риск убытков (1%). Этот регион и будет предложен к разработке."
   ]
  }
 ],
 "metadata": {
  "kernelspec": {
   "display_name": "Python 3",
   "language": "python",
   "name": "python3"
  },
  "language_info": {
   "codemirror_mode": {
    "name": "ipython",
    "version": 3
   },
   "file_extension": ".py",
   "mimetype": "text/x-python",
   "name": "python",
   "nbconvert_exporter": "python",
   "pygments_lexer": "ipython3",
   "version": "3.7.6"
  }
 },
 "nbformat": 4,
 "nbformat_minor": 2
}
